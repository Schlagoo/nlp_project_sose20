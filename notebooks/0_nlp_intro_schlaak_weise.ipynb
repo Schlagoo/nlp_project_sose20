{
 "cells": [
  {
   "cell_type": "markdown",
   "metadata": {},
   "source": [
    "# Projekt - Natural Language Processing (SoSe 20)\n",
    "\n",
    "Dieses Projekt befasst sich anhand eines realitätsnahen Anwendungsfalls mit der Analyse natürlicher Sprache. Hierzu wurden verschiedene Anforderungen an Themen definiert, welche die Vorlesungsinhalte des Fachs \"Natural Language Processing\" wiederspiegeln.\n",
    "\n",
    "Alle hier hervorgehobenen Hyperlinks bieten eine Navigation zwischen den einzelnen Notebooks. Am Ende jedes Notebooks findet sich jeweils ein Link, welcher eine Navigation zum nächsten Notebook, sowie zurück zur Übersicht, ermöglicht.\n",
    "\n",
    "### Authoren\n",
    "\n",
    "* [Pascal Schlaak (58738)](mailto:pascal.schlaak@studmail.htw-aalen.de)\n",
    "* [Tim Weise (58716)](mailto:tim.weise@studmail.htw-aalen.de)\n",
    "\n",
    "Bei weiteren Fragen können Sie uns unter den hier referenzierten E-Mailadressen kontaktieren.\n",
    "\n",
    "### Setup\n",
    "\n",
    "Zu einem erfolgreichen Ausführen dieser Notebooks wird die Nutzung von `Python 3.8.2` empfohlen. Ebenso sollte eine virtuelle Umgebung erstellt werden, in welcher die in der `requirements.txt` aufgelisteten Module installiert werden sollten. Im folgenden Codeausschnitt wird dargestellt, wie ein solches Setup realisiert werden kann.\n",
    "\n",
    "```bash\n",
    "cd /dieses/projekt/verzeichnis\n",
    "python3 -m venv \"venv-name\"\n",
    "source \".venv-name\"/bin/activate\n",
    "pip install -r ./requirements.txt\n",
    "```\n",
    "\n",
    "##### Ressourcen\n",
    "\n",
    "* [Python 3.8.2](https://www.python.org/downloads/release/python-382/)\n",
    "* Module siehe [requirements.txt](./requirements.txt)\n",
    "\n",
    "Achtung: Die Laufzeitdauer mancher Codezellen ist sehr hoch. Sämtliche Outputs wurden deshalb bereits von uns generiert. Wir empfehlen daher lediglich das Durchlesen der Notebooks. Insbesondere bei der Anwendung des Clustering-Algorithmus kann es zu Abweichungen oder einer anderen Reihenfolge der Cluster kommen.\n",
    "\n",
    "## Problemstellung\n",
    "\n",
    "Die Projektidee ist aus den Empfehlungslisten für ähnliche Titel bei der Filmwiedergabe auf Streaming-Plattformen bekannt: Firmen wie beispielsweise [Netflix](https://www.netflix.com/de-en/) nutzen bereits solche Funktionalität in ihrem System (siehe Abbildung), wobei verschiedenste Ansätze für die Generierung dieser Vorschläge existieren.  \n",
    "\n",
    "![Netflix - Filmvorschläge](imgs/netflix.png)\n",
    "\n",
    "Welche Datenbasis für die Vorschläge verwendet wird ist unklar. Es kommen mehrere Quellen in Frage:\n",
    "\n",
    "* Bewertungen des Nutzers\n",
    "* Streaming-Verlauf des Nutzers\n",
    "* Filme des gleichen Genres\n",
    "* Inhaltlich ähnliche Filme\n",
    "* Filmneuheiten\n",
    "* etc.\n",
    "\n",
    "Dieses Projekt beschränkt sich auf Handlungsinhalte aus Zusammenfassungen der Filmbeschreibung in natürlicher Sprache und in Textform, um die Empfehlung ähnlicher Filme zu generieren und zu untersuchen, wie gut sich diese Datenbasis für ein Clustering eignet.\n",
    "\n",
    "## Gliederung\n",
    "\n",
    "Mithilfe eines Web Crawlers wird eine Datenbasis verschiedener Filme generiert. Im Folgenden erfolgt ein erstes Sichten der Daten, um die Korrektheit der Daten sicherstellen zu können. Anschließend werden alle Daten dahingehend vorverarbeitet, dass eine spätere Analyse möglich ist. Zuletzt soll eine Analyse der Filmdaten durchgeführt werden. Hierbei werden alle Einträge mithilfe eines k-Means-Clustering-Algorithmus einem Genre zugeordnet. Ebenfalls wird eine Ähnlichkeitsanalyse durchgeführt, womit eine Empfehlung ähnlicher Titel ermöglicht werden soll.\n",
    "\n",
    "Wir empfehlen das Durcharbeiten der folgenden Notebooks in chronologischer Reihenfolge.\n",
    "\n",
    "1. [Datencrawling](./1_nlp_crawling_schlaak_weise.ipynb)\n",
    "2. [Datenvalidierung](./2_nlp_validation_schlaak_weise.ipynb)\n",
    "3. [Verarbeitung aller Dateneinträge](./3_nlp_preprocessing_schlaak_weise.ipynb)\n",
    "4. [Clusteranalyse und Vorhersage Empfehlung](./4_nlp_analysis_schlaak_weise.ipynb)"
   ]
  },
  {
   "cell_type": "code",
   "execution_count": null,
   "metadata": {},
   "outputs": [],
   "source": []
  }
 ],
 "metadata": {
  "kernelspec": {
   "display_name": "Python 3",
   "language": "python",
   "name": "python3"
  },
  "language_info": {
   "codemirror_mode": {
    "name": "ipython",
    "version": 3
   },
   "file_extension": ".py",
   "mimetype": "text/x-python",
   "name": "python",
   "nbconvert_exporter": "python",
   "pygments_lexer": "ipython3",
   "version": "3.8.2"
  }
 },
 "nbformat": 4,
 "nbformat_minor": 4
}
