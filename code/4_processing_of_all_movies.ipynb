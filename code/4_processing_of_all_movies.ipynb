{
 "cells": [
  {
   "cell_type": "markdown",
   "metadata": {},
   "source": [
    "Von Pascal Schlaak, Tim Weise - Natural Language Processing"
   ]
  },
  {
   "cell_type": "markdown",
   "metadata": {},
   "source": [
    "# Verarbeitung mehrerer Daten\n",
    "\n",
    "In diesem Notebook soll auf der Analyse eines spezifischen Films aufgebaut werden, indem die Verarbeitung aller gecrawlten Filmdaten untersucht wird. Hierfür bietet es sich an zuerst einen generellen Überblick aller Daten zu verschaffen.\n",
    "\n",
    "\n",
    "### Module importieren\n",
    "\n",
    "Als erstes werden wieder einmal alle nötigen Module importiert.\n",
    "* TODO: Packages beschreiben"
   ]
  },
  {
   "cell_type": "code",
   "execution_count": 1,
   "metadata": {},
   "outputs": [],
   "source": [
    "import json\n",
    "import spacy\n",
    "import numpy as np\n",
    "import pandas as pd\n",
    "import matplotlib.pyplot as plt\n",
    "from collections import Counter"
   ]
  },
  {
   "cell_type": "markdown",
   "metadata": {},
   "source": [
    "### Einlesen der Daten\n",
    "Im folgenden können nun alle Daten eingelesen werden. Wir nutzen hierfür die Funktionalität des Moduls `Pandas`, welches sich für die Analyse von Daten eignet. Mithilfe von `pd.read_json()` kann der Inhalt der JSON-Datei in ein Pandas Dataframe überführt werden."
   ]
  },
  {
   "cell_type": "code",
   "execution_count": 2,
   "metadata": {},
   "outputs": [],
   "source": [
    "# Pfad zu JSON-Datei\n",
    "PATH_TO_DATA = '../data/raw.json'\n",
    "# Einlesen der JSON-Datei in Dictionary\n",
    "data = pd.read_json(PATH_TO_DATA)"
   ]
  },
  {
   "cell_type": "markdown",
   "metadata": {},
   "source": [
    "Für eine spätere Transformation mithilfe von Machine Learning bietet sich eine große Menge an Trainingsdaten an. Über die Länge des Dictionarys können wir ausgeben, wie viele Filmeinträge gecrawlt wurden."
   ]
  },
  {
   "cell_type": "code",
   "execution_count": 3,
   "metadata": {},
   "outputs": [
    {
     "data": {
      "text/plain": [
       "4"
      ]
     },
     "execution_count": 3,
     "metadata": {},
     "output_type": "execute_result"
    }
   ],
   "source": [
    "number_movies = len(data)\n",
    "number_movies"
   ]
  },
  {
   "cell_type": "markdown",
   "metadata": {},
   "source": [
    "Diese Anzahl bietet uns eine solide Datenbasis für kommende Verarbeitungsschritte. Neben der Anzahl an Filmeinträgen ist eine höhere Anzahl von Wörtern pro Zusammenfassung ebenfalls von Vorteil, da man somit mehr Informationen über einen bestimmten Film hat. Im Folgenden wird die gesamte Anzahl an Wörtern pro Zusammenfassung mit der effektiv für die Transformation nutzbaren Anzahl an Wörtern verglichen. Dieser Vergleich bietet uns Einblicke in den Verlust von Wörtern wie beispielsweise Stoppwörtern, welche kein nützliches Wissen für die Analyse des Filminhaltes darstellen."
   ]
  },
  {
   "cell_type": "markdown",
   "metadata": {},
   "source": [
    "### Generelle Informationen zu Daten"
   ]
  },
  {
   "cell_type": "markdown",
   "metadata": {},
   "source": [
    "Es soll zunächst untersucht werden, wie hoch die mittlere Anzahl an Wörtern, sowie Maxima des gesamten Datensatzes sind. Hierzu untersuchen wir zuerst die gesamte Anzahl an Wörtern inklusive Stoppwörtern. Es werden lediglich die Satzzeichen entfernt. `spaCy` bietet sich wiederrum für eine Tokenisierung der Zusammenfassungen an."
   ]
  },
  {
   "cell_type": "code",
   "execution_count": 4,
   "metadata": {},
   "outputs": [],
   "source": [
    "total_number_words = {}\n",
    "# Laden des Sprach-Supports für spätere Analysen wie POS-Tagging\n",
    "nlp = spacy.load(\"en_core_web_sm\")\n",
    "# Iteriere über jeden Film in Daten\n",
    "for index, movie in data.iterrows():\n",
    "    # Berechnen der Anzahl an Wörtern und Abspeichern in neuem Dictionary\n",
    "    total_number_words[movie['title']] =  len([token.lemma_ for token in nlp(movie['synopsis']) if not token.is_punct])"
   ]
  },
  {
   "cell_type": "code",
   "execution_count": 5,
   "metadata": {},
   "outputs": [
    {
     "data": {
      "text/plain": [
       "{'Godfellas': 1698,\n",
       " 'Casino': 2903,\n",
       " 'The Lord of the Rings: The Fellowship of the Ring': 1012,\n",
       " 'The Hobbit: An Unexpected Journey': 2229}"
      ]
     },
     "execution_count": 5,
     "metadata": {},
     "output_type": "execute_result"
    }
   ],
   "source": [
    "total_number_words"
   ]
  },
  {
   "cell_type": "markdown",
   "metadata": {},
   "source": [
    "Die Länge einer Liste, welche alle lemmatisierten Tokens enthält, enthält Informationen zur Berechnung der mittleren Anzahl an Wörtern, sowie Identifizierung von minimaler- und maximaler Anzahl an Wörtern einer Zusammenfassung."
   ]
  },
  {
   "cell_type": "code",
   "execution_count": 6,
   "metadata": {},
   "outputs": [
    {
     "name": "stdout",
     "output_type": "stream",
     "text": [
      "Durschnitt:\t1960 Wörter\n",
      "Minimal:\t1012 Wörter\tbei\t['The Lord of the Rings: The Fellowship of the Ring']\n",
      "Minimal:\t2903 Wörter\tbei\t['Casino']\n"
     ]
    }
   ],
   "source": [
    "# Durchschnittliche Anzahl an Wörtern berechnen\n",
    "total_average_words = round(sum(total_number_words.values()) / number_movies)\n",
    "print('Durschnitt:\\t{} Wörter'.format(total_average_words))\n",
    "# Minimale Anzahl an Wörter finden und dessen Filmnamen ausgeben\n",
    "total_min_value = min(total_number_words.values())\n",
    "total_min_words = [k for k, v in total_number_words.items() if v==total_min_value]\n",
    "print('Minimal:\\t{} Wörter\\tbei\\t{}'.format(total_min_value, total_min_words))\n",
    "# Maximale Anzahl an Wörter finden und dessen Filmnamen ausgeben\n",
    "total_max_value = max(total_number_words.values())\n",
    "total_max_words = [k for k, v in total_number_words.items() if v==total_max_value]\n",
    "print('Minimal:\\t{} Wörter\\tbei\\t{}'.format(total_max_value, total_max_words))"
   ]
  },
  {
   "cell_type": "markdown",
   "metadata": {},
   "source": [
    "Die Varianz unserer Daten könnte ebenfalls interessant sein, um die Streuung der Anzahl an Wörtern pro Zusammenfassung einordnen zu können. Eine Berechnung erfolgt mithilfe von `Numpy`."
   ]
  },
  {
   "cell_type": "code",
   "execution_count": 7,
   "metadata": {},
   "outputs": [
    {
     "data": {
      "text/plain": [
       "694.4344821507642"
      ]
     },
     "execution_count": 7,
     "metadata": {},
     "output_type": "execute_result"
    }
   ],
   "source": [
    "np.std(list(total_number_words.values()))"
   ]
  },
  {
   "cell_type": "markdown",
   "metadata": {},
   "source": [
    "### Reduzierung der Daten\n",
    "\n",
    "Nachdem wir nun einen generellen Überblick unseres gesamten Datensatzes generiert haben, sollen alle Daten auf die für eine Analyse benötigten Daten reduziert werden. Konkret werden ebenfalls neben allen Satzzeichen auch alle Stoppwörter entfernt und die Grundformen der Wörter gebildet. Generell verfahren wir analog zur vorherigen Analyse."
   ]
  },
  {
   "cell_type": "code",
   "execution_count": 8,
   "metadata": {},
   "outputs": [],
   "source": [
    "reduced_number_words = {}\n",
    "# Iteriere über jeden Film in Daten\n",
    "for index, movie in data.iterrows():\n",
    "    # Berechnen der Anzahl an Wörtern und Abspeichern in neuem Dictionary\n",
    "    reduced_number_words[movie['title']] =  len([token.lemma_ for token in nlp(movie['synopsis']) if not token.is_stop and not token.is_punct])"
   ]
  },
  {
   "cell_type": "code",
   "execution_count": 9,
   "metadata": {},
   "outputs": [
    {
     "data": {
      "text/plain": [
       "{'Godfellas': 889,\n",
       " 'Casino': 1348,\n",
       " 'The Lord of the Rings: The Fellowship of the Ring': 498,\n",
       " 'The Hobbit: An Unexpected Journey': 1152}"
      ]
     },
     "execution_count": 9,
     "metadata": {},
     "output_type": "execute_result"
    }
   ],
   "source": [
    "reduced_number_words"
   ]
  },
  {
   "cell_type": "code",
   "execution_count": 10,
   "metadata": {},
   "outputs": [
    {
     "name": "stdout",
     "output_type": "stream",
     "text": [
      "Durschnitt:\t972 Wörter\n",
      "Minimal:\t498 Wörter\tbei\t['The Lord of the Rings: The Fellowship of the Ring']\n",
      "Minimal:\t1348 Wörter\tbei\t['Casino']\n"
     ]
    }
   ],
   "source": [
    "# Durchschnittliche Anzahl an Wörtern berechnen\n",
    "reduced_average_words = round(sum(reduced_number_words.values()) / number_movies)\n",
    "print('Durschnitt:\\t{} Wörter'.format(reduced_average_words))\n",
    "# Minimale Anzahl an Wörter finden und dessen Filmnamen ausgeben\n",
    "reduced_min_value = min(reduced_number_words.values())\n",
    "reduced_min_words = [k for k, v in reduced_number_words.items() if v==reduced_min_value]\n",
    "print('Minimal:\\t{} Wörter\\tbei\\t{}'.format(reduced_min_value, reduced_min_words))\n",
    "# Maximale Anzahl an Wörter finden und dessen Filmnamen ausgeben\n",
    "reduced_max_value = max(reduced_number_words.values())\n",
    "reduced_max_words = [k for k, v in reduced_number_words.items() if v==reduced_max_value]\n",
    "print('Minimal:\\t{} Wörter\\tbei\\t{}'.format(reduced_max_value, reduced_max_words))"
   ]
  },
  {
   "cell_type": "markdown",
   "metadata": {},
   "source": [
    "Stoppwörter machen somit den folgenden Anteil an den gecrawlten Zusammenfassungen aus:"
   ]
  },
  {
   "cell_type": "code",
   "execution_count": 11,
   "metadata": {
    "scrolled": true
   },
   "outputs": [
    {
     "name": "stdout",
     "output_type": "stream",
     "text": [
      "~50.0 %\n"
     ]
    }
   ],
   "source": [
    "print('~{} %'.format(round((reduced_average_words / total_average_words) * 100, 0)))"
   ]
  },
  {
   "cell_type": "markdown",
   "metadata": {},
   "source": [
    "Eine logische Folgerung der Reduzierung unserer Daten, um Stoppwörter, ist die Verringerung der Varianz der Token. Wir können hierfür die Standardabweichung unserer reduzierten Daten bilden."
   ]
  },
  {
   "cell_type": "code",
   "execution_count": 12,
   "metadata": {},
   "outputs": [
    {
     "data": {
      "text/plain": [
       "318.3318826319475"
      ]
     },
     "execution_count": 12,
     "metadata": {},
     "output_type": "execute_result"
    }
   ],
   "source": [
    "np.std(list(reduced_number_words.values()))"
   ]
  },
  {
   "cell_type": "markdown",
   "metadata": {},
   "source": [
    "### Extraktion genereller Informationen\n",
    "\n",
    "Um einen generellen Überblick zu Informationen aller Filme zu erhalten, können außerdem die insgesamt am häufigsten verwendeten Wörter untersucht werden. Hierzu vernachlässigen wir zuerst alle Eigennamen und konzentrieren und auf weitere Informationen. Zur Vereinfachung werden ebenso die Grundformen der Wörter gebildet und visualisiert."
   ]
  },
  {
   "cell_type": "code",
   "execution_count": 13,
   "metadata": {},
   "outputs": [],
   "source": [
    "total_words, total_entities = [], []\n",
    "for index, movie in data.iterrows():\n",
    "    # Generierung einer Liste von allen lemmatisierten Tokens\n",
    "    total_words.extend([token.lemma_ for token in nlp(movie['synopsis']) if not token.is_stop and not token.is_punct])\n",
    "    # Generierung einer Liste aller Eigennamen\n",
    "    total_entities.extend([token.text for token in nlp(movie['synopsis']).ents])"
   ]
  },
  {
   "cell_type": "code",
   "execution_count": 18,
   "metadata": {},
   "outputs": [],
   "source": [
    "# Liste auf Set von eundeutigen Eigennamen reduzieren\n",
    "total_entities_set = sorted(set(total_entities))\n",
    "# Eigennamen vorerst von allen Tokens entfernen\n",
    "total_words_without_ents = []\n",
    "for word in total_words:\n",
    "    if word not in total_entities_set:\n",
    "        total_words_without_ents.append(word)\n",
    "# Häufigesten 30 Wörter identifizieren\n",
    "common = dict(Counter(total_words_without_ents).most_common(30))"
   ]
  },
  {
   "cell_type": "code",
   "execution_count": 19,
   "metadata": {},
   "outputs": [
    {
     "data": {
      "text/plain": [
       "['Ace',\n",
       " 'Amy',\n",
       " 'Azog',\n",
       " 'Bilbo',\n",
       " 'Conway',\n",
       " 'Dominick',\n",
       " 'FBI',\n",
       " 'Frankie',\n",
       " 'Frodo',\n",
       " 'Gaggi',\n",
       " 'Galadriel',\n",
       " 'Gandalf',\n",
       " 'Ginger',\n",
       " 'Gollum',\n",
       " 'Henry',\n",
       " 'Jimmy',\n",
       " 'Jimmy Conway',\n",
       " 'Karen',\n",
       " 'Lester',\n",
       " 'Nicky',\n",
       " 'Paulie',\n",
       " 'Ring',\n",
       " 'Sandy',\n",
       " 'Saruman',\n",
       " 'Sauron',\n",
       " 'Tangiers',\n",
       " 'Thorin',\n",
       " 'Tommy',\n",
       " 'one',\n",
       " 'two']"
      ]
     },
     "execution_count": 19,
     "metadata": {},
     "output_type": "execute_result"
    }
   ],
   "source": [
    "total_entities_set"
   ]
  },
  {
   "cell_type": "markdown",
   "metadata": {},
   "source": [
    "Im folgenden werden die 30 insgesamt am häufigesten verwendeten Wörter geplottet."
   ]
  },
  {
   "cell_type": "code",
   "execution_count": 15,
   "metadata": {},
   "outputs": [
    {
     "data": {
      "image/png": "[encoded data removed]",
      "text/plain": [
       "<Figure size 1152x576 with 1 Axes>"
      ]
     },
     "metadata": {
      "needs_background": "light"
     },
     "output_type": "display_data"
    }
   ],
   "source": [
    "# Plotgröße definieren\n",
    "plt.rcParams[\"figure.figsize\"] = (16, 8)\n",
    "# Bar-Plot basierend auf Dictionary erzeugen und visualisieren\n",
    "plt.barh(range(len(common)), list(common.values()), tick_label=list(common.keys()))\n",
    "plt.show()"
   ]
  },
  {
   "cell_type": "markdown",
   "metadata": {},
   "source": [
    "* TODO: HIER NOCH ALLGEMEIN WAS ZU PLOT ERGEBNIS DANN SCHREIBEN"
   ]
  },
  {
   "cell_type": "markdown",
   "metadata": {},
   "source": [
    "### Analyse aller Eigennamen\n",
    "\n",
    "Nachdem nun generelle Informationen zu den Filminhalten erstellt wurden, können ebenso auch Eigennamen verarbeitet werden. Dies könnte interessant sein, um gängige Rollennamen, Spielorte, Jahr oder Schauspieler identifizieren zu können. In weiteren Analysen könnte beispielsweise versucht werden, die Wahrscheinlichkeit für das Genre eines Films basierend auf dessen Rollen zu bestimmen."
   ]
  },
  {
   "cell_type": "code",
   "execution_count": 16,
   "metadata": {},
   "outputs": [],
   "source": [
    "total_entities = dict(Counter(total_entities).most_common(30))"
   ]
  },
  {
   "cell_type": "code",
   "execution_count": 17,
   "metadata": {},
   "outputs": [
    {
     "data": {
      "image/png": "[encoded data removed]",
      "text/plain": [
       "<Figure size 1152x576 with 1 Axes>"
      ]
     },
     "metadata": {
      "needs_background": "light"
     },
     "output_type": "display_data"
    }
   ],
   "source": [
    "# Plotgröße definieren\n",
    "plt.rcParams[\"figure.figsize\"] = (16, 8)\n",
    "# Bar-Plot basierend auf Dictionary erzeugen und visualisieren\n",
    "plt.barh(range(len(total_entities)), list(total_entities.values()), tick_label=list(total_entities.keys()))\n",
    "plt.show()"
   ]
  },
  {
   "cell_type": "markdown",
   "metadata": {},
   "source": [
    "### Zusammenfassung\n",
    "\n",
    "Wir konnten mehrere Informationen aus den gecrawlten Filmzusammenfassungen von IMDb ableiten und generell zeigen, dass eine Verarbeitung aller Daten möglich ist. \n",
    "\n",
    "Im folgenden Notebook soll untersucht werden, ob eine gute Transformation, basierend auf diesen Daten, möglich ist."
   ]
  },
  {
   "cell_type": "markdown",
   "metadata": {},
   "source": [
    "* N-Gramme\n",
    "* Bag-of-Words für Transformation"
   ]
  }
 ],
 "metadata": {
  "kernelspec": {
   "display_name": "Python 3 - NLP",
   "language": "python",
   "name": "nlp"
  },
  "language_info": {
   "codemirror_mode": {
    "name": "ipython",
    "version": 3
   },
   "file_extension": ".py",
   "mimetype": "text/x-python",
   "name": "python",
   "nbconvert_exporter": "python",
   "pygments_lexer": "ipython3",
   "version": "3.8.2"
  }
 },
 "nbformat": 4,
 "nbformat_minor": 4
}
