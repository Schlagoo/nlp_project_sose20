{
 "cells": [
  {
   "cell_type": "markdown",
   "metadata": {},
   "source": [
    "# Transformation der Daten\n",
    "\n",
    "In diesem Notebook möchten wir eine Cluster Analyse unserer zuvor vor verarbeiteten Daten durchführen, um inhaltlich ähnliche Filme zu einem Genre zu ordnen zu können. basierend darauf soll eine Ähnlichkeitsanalyse innerhalb jedes Clusters durchgeführt werden, um Vorschläge für ähnliche Titel aussprechen zu können.\n",
    "\n",
    "## Module importieren\n",
    "\n",
    "Zur Verarbeitung der Datenbasis werden folgende Module benötigt und müssen zuerst importiert werden."
   ]
  },
  {
   "cell_type": "code",
   "execution_count": 1,
   "metadata": {},
   "outputs": [],
   "source": [
    "import spacy\n",
    "import numpy as np\n",
    "import pandas as pd\n",
    "import matplotlib.pyplot as plt\n",
    "from sklearn.cluster import KMeans\n",
    "from sklearn.metrics import adjusted_rand_score\n",
    "from sklearn.model_selection import train_test_split\n",
    "from sklearn.feature_extraction.text import TfidfVectorizer"
   ]
  },
  {
   "cell_type": "markdown",
   "metadata": {},
   "source": [
    "## Daten einlesen"
   ]
  },
  {
   "cell_type": "code",
   "execution_count": 2,
   "metadata": {},
   "outputs": [],
   "source": [
    "PATH_TO_DATA = '../data/movies.json'\n",
    "# JSON Daten in Dataframe lesen\n",
    "data = pd.read_json(PATH_TO_DATA)"
   ]
  },
  {
   "cell_type": "code",
   "execution_count": 3,
   "metadata": {},
   "outputs": [],
   "source": [
    "nlp = spacy.load(\"en_core_web_sm\")"
   ]
  },
  {
   "cell_type": "markdown",
   "metadata": {},
   "source": [
    "## Datenbereinigung\n",
    "\n",
    "Entfernen der Dateneinträge ohne Zusammenfassung."
   ]
  },
  {
   "cell_type": "code",
   "execution_count": 4,
   "metadata": {},
   "outputs": [
    {
     "name": "stdout",
     "output_type": "stream",
     "text": [
      "237\n"
     ]
    }
   ],
   "source": [
    "disclaimer = 'It looks like we don\\'t have a Synopsis for this title yet.'\n",
    "for index, movie in data.iterrows():\n",
    "    if disclaimer in movie['synopsis']:\n",
    "        data = data.drop(index)\n",
    "print(len(data))"
   ]
  },
  {
   "cell_type": "markdown",
   "metadata": {},
   "source": [
    "## Vorverarbeitung der Daten\n",
    "\n",
    "Lemmatisierung der Token, sowie entfernen von Stoppwörtern, Eigennamen und Verben."
   ]
  },
  {
   "cell_type": "code",
   "execution_count": 5,
   "metadata": {},
   "outputs": [],
   "source": [
    "processed_data = []\n",
    "for index, movie in data.iterrows():\n",
    "    # Vorverarbeiten der Zusammenfassungen\n",
    "    processed_data.append({'title': movie['title'], 'bow': ' '.join([str(token.lemma_).lower() for token in nlp(movie['synopsis']) if not token.ent_type_ and not token.is_stop and not token.is_punct and token.pos_ != 'VERB'])})\n",
    "data = pd.DataFrame(processed_data)"
   ]
  },
  {
   "cell_type": "markdown",
   "metadata": {},
   "source": [
    "Das DataFrame sieht nun folgendermaßen aus:"
   ]
  },
  {
   "cell_type": "code",
   "execution_count": 6,
   "metadata": {},
   "outputs": [
    {
     "data": {
      "text/html": [
       "<div>\n",
       "<style scoped>\n",
       "    .dataframe tbody tr th:only-of-type {\n",
       "        vertical-align: middle;\n",
       "    }\n",
       "\n",
       "    .dataframe tbody tr th {\n",
       "        vertical-align: top;\n",
       "    }\n",
       "\n",
       "    .dataframe thead th {\n",
       "        text-align: right;\n",
       "    }\n",
       "</style>\n",
       "<table border=\"1\" class=\"dataframe\">\n",
       "  <thead>\n",
       "    <tr style=\"text-align: right;\">\n",
       "      <th></th>\n",
       "      <th>title</th>\n",
       "      <th>bow</th>\n",
       "    </tr>\n",
       "  </thead>\n",
       "  <tbody>\n",
       "    <tr>\n",
       "      <th>0</th>\n",
       "      <td>The Shawshank Redemption</td>\n",
       "      <td>banker wife lover golf pro state death penalty...</td>\n",
       "    </tr>\n",
       "    <tr>\n",
       "      <th>1</th>\n",
       "      <td>The Dark Knight</td>\n",
       "      <td>movie gang man clown mask bank mob large porti...</td>\n",
       "    </tr>\n",
       "    <tr>\n",
       "      <th>2</th>\n",
       "      <td>The Godfather</td>\n",
       "      <td>guest wedding reception daughter connie head f...</td>\n",
       "    </tr>\n",
       "    <tr>\n",
       "      <th>3</th>\n",
       "      <td>The Godfather: Part II</td>\n",
       "      <td>godfather ii parallel storyline chief event mo...</td>\n",
       "    </tr>\n",
       "    <tr>\n",
       "      <th>4</th>\n",
       "      <td>Pulp Fiction</td>\n",
       "      <td>restaurant young couple pro con bank versus li...</td>\n",
       "    </tr>\n",
       "  </tbody>\n",
       "</table>\n",
       "</div>"
      ],
      "text/plain": [
       "                      title                                                bow\n",
       "0  The Shawshank Redemption  banker wife lover golf pro state death penalty...\n",
       "1           The Dark Knight  movie gang man clown mask bank mob large porti...\n",
       "2             The Godfather  guest wedding reception daughter connie head f...\n",
       "3    The Godfather: Part II  godfather ii parallel storyline chief event mo...\n",
       "4              Pulp Fiction  restaurant young couple pro con bank versus li..."
      ]
     },
     "execution_count": 6,
     "metadata": {},
     "output_type": "execute_result"
    }
   ],
   "source": [
    "# Nur erste fünf Einträge anzeigen\n",
    "data.head()"
   ]
  },
  {
   "cell_type": "markdown",
   "metadata": {},
   "source": [
    "## Feature-Matrix erstellen\n",
    "\n",
    "\n",
    "Damit wir unsere vorverarbeitenden Bag of Words als Eingabe für unsere Cluster Algorithmus verwenden können erstellen wir eine so genannte Feature Matrix. Dabei generieren wir eine Matrix der Häufigkeit aller Token unsere Dateneinträge mithilfe des von `sklearn`s `CountVectorizer` gefolgt von einer Normalisierung mittels `TfidfTransformer` der Daten. Wir nutzen hierbei die Inverse Dokument Frequency (inverse Dokumentenhäufigkeit). Die inverse Dokumenthäufigkeit misst die Spezifität eines Terms für die Gesamtmenge der betrachteten Dokumente. Ein übereinstimmendes Vorkommen von seltenen Begriffen ist für die Relevanz aussagekräftiger als eine Übereinstimmung bei sehr häufigen Wörtern [[Quelle]](https://de.wikipedia.org/wiki/Tf-idf-Ma%C3%9F)."
   ]
  },
  {
   "cell_type": "code",
   "execution_count": 7,
   "metadata": {},
   "outputs": [],
   "source": [
    "# Matrix von Token mit Frequenz plus Normalisieren mittels \"Inverse-document-frequency\" (IDF)\n",
    "vectorizer = TfidfVectorizer(max_df=0.9, min_df=0.2, ngram_range=(1,3))\n",
    "# Lernen des Vokabulars und IDF\n",
    "X = vectorizer.fit_transform(data['bow'])"
   ]
  },
  {
   "cell_type": "markdown",
   "metadata": {},
   "source": [
    "Unsere Feature Matrix besteht somit aus 237 Einträgen, die jeweils über 196 Wörter/Token verfügen. Jeder Dateneintrag besitzt selbstverständlich nicht jedes Wort und hat deshalb bei mehreren Token eine Frequenz von 0."
   ]
  },
  {
   "cell_type": "code",
   "execution_count": 8,
   "metadata": {},
   "outputs": [
    {
     "data": {
      "text/plain": [
       "(237, 196)"
      ]
     },
     "execution_count": 8,
     "metadata": {},
     "output_type": "execute_result"
    }
   ],
   "source": [
    "X.shape"
   ]
  },
  {
   "cell_type": "markdown",
   "metadata": {},
   "source": [
    "Wir erhalten folgende Matrix:"
   ]
  },
  {
   "cell_type": "code",
   "execution_count": 9,
   "metadata": {},
   "outputs": [
    {
     "data": {
      "text/plain": [
       "array([[0.0353196 , 0.02406543, 0.        , ..., 0.02499595, 0.07219628,\n",
       "        0.01581857],\n",
       "       [0.04885937, 0.02219394, 0.04252334, ..., 0.        , 0.02219394,\n",
       "        0.02917682],\n",
       "       [0.        , 0.        , 0.        , ..., 0.        , 0.        ,\n",
       "        0.12084285],\n",
       "       ...,\n",
       "       [0.        , 0.        , 0.04800141, ..., 0.        , 0.        ,\n",
       "        0.06587104],\n",
       "       [0.        , 0.        , 0.        , ..., 0.07059206, 0.        ,\n",
       "        0.13402154],\n",
       "       [0.0483163 , 0.06584177, 0.        , ..., 0.        , 0.        ,\n",
       "        0.        ]])"
      ]
     },
     "execution_count": 9,
     "metadata": {},
     "output_type": "execute_result"
    }
   ],
   "source": [
    "X.toarray()"
   ]
  },
  {
   "cell_type": "markdown",
   "metadata": {},
   "source": [
    "Wir erhalten somit 196 Wörter, welche das für dieses Projekt benötigte Vokabular darstellen. Bei einer Optimierung dieses Projekts könnte man beispielsweise dieses Vokabular  (erweitert mit Stoppwörtern, Satzzeichen) anstatt eines der von spaCy zur Verügung gestellten Sprachmodelle nutzen."
   ]
  },
  {
   "cell_type": "code",
   "execution_count": 10,
   "metadata": {},
   "outputs": [
    {
     "data": {
      "text/plain": [
       "['able',\n",
       " 'action',\n",
       " 'actually',\n",
       " 'alive',\n",
       " 'angry',\n",
       " 'apartment',\n",
       " 'apparently',\n",
       " 'area',\n",
       " 'arm',\n",
       " 'attack',\n",
       " 'attempt',\n",
       " 'attention',\n",
       " 'away',\n",
       " 'bad',\n",
       " 'bar',\n",
       " 'battle',\n",
       " 'bed',\n",
       " 'big',\n",
       " 'black',\n",
       " 'blood',\n",
       " 'body',\n",
       " 'book',\n",
       " 'boy',\n",
       " 'brother',\n",
       " 'building',\n",
       " 'business',\n",
       " 'car',\n",
       " 'case',\n",
       " 'chance',\n",
       " 'charge',\n",
       " 'child',\n",
       " 'city',\n",
       " 'close',\n",
       " 'company',\n",
       " 'completely',\n",
       " 'control',\n",
       " 'conversation',\n",
       " 'couple',\n",
       " 'crime',\n",
       " 'dark',\n",
       " 'daughter',\n",
       " 'day',\n",
       " 'dead',\n",
       " 'death',\n",
       " 'despite',\n",
       " 'different',\n",
       " 'doctor',\n",
       " 'door',\n",
       " 'earlier',\n",
       " 'end',\n",
       " 'entire',\n",
       " 'escape',\n",
       " 'event',\n",
       " 'eventually',\n",
       " 'eye',\n",
       " 'face',\n",
       " 'fact',\n",
       " 'family',\n",
       " 'far',\n",
       " 'father',\n",
       " 'fight',\n",
       " 'film',\n",
       " 'final',\n",
       " 'finally',\n",
       " 'fire',\n",
       " 'floor',\n",
       " 'food',\n",
       " 'foot',\n",
       " 'force',\n",
       " 'free',\n",
       " 'friend',\n",
       " 'game',\n",
       " 'girl',\n",
       " 'good',\n",
       " 'great',\n",
       " 'ground',\n",
       " 'group',\n",
       " 'guard',\n",
       " 'gun',\n",
       " 'hand',\n",
       " 'happy',\n",
       " 'hard',\n",
       " 'head',\n",
       " 'help',\n",
       " 'high',\n",
       " 'home',\n",
       " 'hospital',\n",
       " 'house',\n",
       " 'husband',\n",
       " 'idea',\n",
       " 'immediately',\n",
       " 'information',\n",
       " 'inside',\n",
       " 'instead',\n",
       " 'job',\n",
       " 'large',\n",
       " 'late',\n",
       " 'later',\n",
       " 'leg',\n",
       " 'letter',\n",
       " 'life',\n",
       " 'light',\n",
       " 'like',\n",
       " 'line',\n",
       " 'little',\n",
       " 'local',\n",
       " 'long',\n",
       " 'love',\n",
       " 'low',\n",
       " 'man',\n",
       " 'meeting',\n",
       " 'member',\n",
       " 'mind',\n",
       " 'moment',\n",
       " 'money',\n",
       " 'mother',\n",
       " 'movie',\n",
       " 'murder',\n",
       " 'near',\n",
       " 'nearby',\n",
       " 'nearly',\n",
       " 'new',\n",
       " 'news',\n",
       " 'night',\n",
       " 'note',\n",
       " 'number',\n",
       " 'office',\n",
       " 'officer',\n",
       " 'old',\n",
       " 'open',\n",
       " 'order',\n",
       " 'outside',\n",
       " 'paper',\n",
       " 'parent',\n",
       " 'party',\n",
       " 'past',\n",
       " 'people',\n",
       " 'person',\n",
       " 'phone',\n",
       " 'picture',\n",
       " 'piece',\n",
       " 'place',\n",
       " 'plan',\n",
       " 'point',\n",
       " 'police',\n",
       " 'power',\n",
       " 'prison',\n",
       " 'question',\n",
       " 'quickly',\n",
       " 'ready',\n",
       " 'real',\n",
       " 'reason',\n",
       " 'relationship',\n",
       " 'rest',\n",
       " 'return',\n",
       " 'right',\n",
       " 'room',\n",
       " 'scene',\n",
       " 'school',\n",
       " 'short',\n",
       " 'shot',\n",
       " 'simply',\n",
       " 'sister',\n",
       " 'situation',\n",
       " 'slowly',\n",
       " 'small',\n",
       " 'soldier',\n",
       " 'son',\n",
       " 'soon',\n",
       " 'station',\n",
       " 'story',\n",
       " 'street',\n",
       " 'suddenly',\n",
       " 'table',\n",
       " 'thing',\n",
       " 'time',\n",
       " 'town',\n",
       " 'train',\n",
       " 'tree',\n",
       " 'true',\n",
       " 'unable',\n",
       " 'voice',\n",
       " 'wall',\n",
       " 'war',\n",
       " 'water',\n",
       " 'way',\n",
       " 'well',\n",
       " 'wife',\n",
       " 'window',\n",
       " 'woman',\n",
       " 'word',\n",
       " 'work',\n",
       " 'world',\n",
       " 'wrong',\n",
       " 'year',\n",
       " 'young']"
      ]
     },
     "execution_count": 10,
     "metadata": {},
     "output_type": "execute_result"
    }
   ],
   "source": [
    "# Vokabular\n",
    "feature_names = vectorizer.get_feature_names()\n",
    "feature_names"
   ]
  },
  {
   "cell_type": "code",
   "execution_count": 11,
   "metadata": {},
   "outputs": [
    {
     "data": {
      "text/plain": [
       "196"
      ]
     },
     "execution_count": 11,
     "metadata": {},
     "output_type": "execute_result"
    }
   ],
   "source": [
    "len(feature_names)"
   ]
  },
  {
   "cell_type": "markdown",
   "metadata": {},
   "source": [
    "## k-Means-Clustering\n",
    "\n",
    "Nachdem wir nun einen validen Input generiert haben, können wir mit dem mit der Modellierung unseres Clustering Algorithmus fortfahren. Wir nutzen hier für den so genannten `k-Means`-Algorithmus, der aus einer Menge von ähnlichen Objekten eine zuvor definierte Anzahl an Clustern bildet. Hierfür nutzen wir ebenfalls `sklearn`. \n",
    "\n",
    "Ein gängier Ansatz bei der Evaluierung von Clustering-Algorithmen ist es, den Algorithmus in einer Schleife bis zu einem bestimmten Schwellwert an Clustern auszuführen. Man nutzt dabei eine Metrik, um die Performanz des Algorithmus zu messen. sklearns `inertia` bietet eine Schnittstelle zur Berechnung der `within-cluster sum-of-squares (WSS)` zur Berechnung der Summe der quadrierten Abweichungen von den Cluster-Schwerpunkten. Valide Werte für die Anzahl an Clustern bei unseren Daten sind: 1, ..., 237. 237 Cluster sind dennoch nicht sinnvoll, da wir so jeden Dateneintrag einem eigenen Cluster zuordnen würden. Wir definieren unsere maximale Anzahl an Clustern, welche für uns die verschiedenen Genres der Filmhandlungen darstellen sollen, als 10."
   ]
  },
  {
   "cell_type": "code",
   "execution_count": 12,
   "metadata": {},
   "outputs": [],
   "source": [
    "wss = []\n",
    "limit = 11\n",
    "for k in range(1, limit):\n",
    "    model = KMeans(n_clusters=k, max_iter=100)\n",
    "    model.fit(X)\n",
    "    wss.append(model.inertia_)"
   ]
  },
  {
   "cell_type": "markdown",
   "metadata": {},
   "source": [
    "Um eine Aussage zum Wählen einer bestimmten Anzahl an Clustern treffen zu können plotten wir mithilfe von Matplotlib alle WSS. Wir wählen dabei eine Zahl, welche einen \"Knick\" / niedrigere Steigung aufweist."
   ]
  },
  {
   "cell_type": "code",
   "execution_count": 13,
   "metadata": {},
   "outputs": [
    {
     "data": {
      "image/png": "[encoded data removed]",
      "text/plain": [
       "<Figure size 432x288 with 1 Axes>"
      ]
     },
     "metadata": {
      "needs_background": "light"
     },
     "output_type": "display_data"
    }
   ],
   "source": [
    "plt.plot(range(1, limit), wss)\n",
    "plt.xlabel('k')\n",
    "plt.ylabel('WSS')\n",
    "plt.show()"
   ]
  },
  {
   "cell_type": "markdown",
   "metadata": {},
   "source": [
    "## Ergebnisevaluierung\n",
    "\n",
    "Wir evaluieren unseren Algorithmus auf unseren Daten fortgehend mit einer Anzahl von 7 Clustern/Genren."
   ]
  },
  {
   "cell_type": "code",
   "execution_count": 14,
   "metadata": {},
   "outputs": [
    {
     "data": {
      "text/plain": [
       "KMeans(max_iter=100, n_clusters=7)"
      ]
     },
     "execution_count": 14,
     "metadata": {},
     "output_type": "execute_result"
    }
   ],
   "source": [
    "k = 7\n",
    "model = KMeans(n_clusters=k, init='k-means++', max_iter=100)\n",
    "model.fit(X)"
   ]
  },
  {
   "cell_type": "markdown",
   "metadata": {},
   "source": [
    "Unser Algorithmus terminiert nach 12 Iterationen."
   ]
  },
  {
   "cell_type": "code",
   "execution_count": 15,
   "metadata": {},
   "outputs": [
    {
     "data": {
      "text/plain": [
       "14"
      ]
     },
     "execution_count": 15,
     "metadata": {},
     "output_type": "execute_result"
    }
   ],
   "source": [
    "model.n_iter_"
   ]
  },
  {
   "cell_type": "markdown",
   "metadata": {},
   "source": [
    "WSS aktueller Cluster:"
   ]
  },
  {
   "cell_type": "code",
   "execution_count": 16,
   "metadata": {},
   "outputs": [
    {
     "data": {
      "text/plain": [
       "160.7776604048724"
      ]
     },
     "execution_count": 16,
     "metadata": {},
     "output_type": "execute_result"
    }
   ],
   "source": [
    "model.inertia_"
   ]
  },
  {
   "cell_type": "markdown",
   "metadata": {},
   "source": [
    "Wir fügen alle Cluster-Zuordnung als neue Spalte in unserem DataFrame an, damit man eine direkte Zuordnung zwischen Filmtitel und Cluster hat."
   ]
  },
  {
   "cell_type": "code",
   "execution_count": 17,
   "metadata": {},
   "outputs": [],
   "source": [
    "data['cluster'] = model.labels_.tolist()"
   ]
  },
  {
   "cell_type": "code",
   "execution_count": 18,
   "metadata": {},
   "outputs": [
    {
     "data": {
      "text/html": [
       "<div>\n",
       "<style scoped>\n",
       "    .dataframe tbody tr th:only-of-type {\n",
       "        vertical-align: middle;\n",
       "    }\n",
       "\n",
       "    .dataframe tbody tr th {\n",
       "        vertical-align: top;\n",
       "    }\n",
       "\n",
       "    .dataframe thead th {\n",
       "        text-align: right;\n",
       "    }\n",
       "</style>\n",
       "<table border=\"1\" class=\"dataframe\">\n",
       "  <thead>\n",
       "    <tr style=\"text-align: right;\">\n",
       "      <th></th>\n",
       "      <th>title</th>\n",
       "      <th>bow</th>\n",
       "      <th>cluster</th>\n",
       "    </tr>\n",
       "  </thead>\n",
       "  <tbody>\n",
       "    <tr>\n",
       "      <th>0</th>\n",
       "      <td>The Shawshank Redemption</td>\n",
       "      <td>banker wife lover golf pro state death penalty...</td>\n",
       "      <td>0</td>\n",
       "    </tr>\n",
       "    <tr>\n",
       "      <th>1</th>\n",
       "      <td>The Dark Knight</td>\n",
       "      <td>movie gang man clown mask bank mob large porti...</td>\n",
       "      <td>0</td>\n",
       "    </tr>\n",
       "    <tr>\n",
       "      <th>2</th>\n",
       "      <td>The Godfather</td>\n",
       "      <td>guest wedding reception daughter connie head f...</td>\n",
       "      <td>4</td>\n",
       "    </tr>\n",
       "    <tr>\n",
       "      <th>3</th>\n",
       "      <td>The Godfather: Part II</td>\n",
       "      <td>godfather ii parallel storyline chief event mo...</td>\n",
       "      <td>4</td>\n",
       "    </tr>\n",
       "    <tr>\n",
       "      <th>4</th>\n",
       "      <td>Pulp Fiction</td>\n",
       "      <td>restaurant young couple pro con bank versus li...</td>\n",
       "      <td>1</td>\n",
       "    </tr>\n",
       "  </tbody>\n",
       "</table>\n",
       "</div>"
      ],
      "text/plain": [
       "                      title  \\\n",
       "0  The Shawshank Redemption   \n",
       "1           The Dark Knight   \n",
       "2             The Godfather   \n",
       "3    The Godfather: Part II   \n",
       "4              Pulp Fiction   \n",
       "\n",
       "                                                 bow  cluster  \n",
       "0  banker wife lover golf pro state death penalty...        0  \n",
       "1  movie gang man clown mask bank mob large porti...        0  \n",
       "2  guest wedding reception daughter connie head f...        4  \n",
       "3  godfather ii parallel storyline chief event mo...        4  \n",
       "4  restaurant young couple pro con bank versus li...        1  "
      ]
     },
     "execution_count": 18,
     "metadata": {},
     "output_type": "execute_result"
    }
   ],
   "source": [
    "data.head()"
   ]
  },
  {
   "cell_type": "markdown",
   "metadata": {},
   "source": [
    "## Clustermerkmale\n",
    "\n",
    "\n",
    "Man kann nun die Eigenschaften eines Clusters untersuchen, in dem man sich die relevantesten Token der einzelnen Cluster anschaut. Dafür iteriert man über jedes einzelne Cluster und gibt eine bestimmte Anzahl an relevantesten Tokens, welche am nächsten zum Mittelpunkt des Clusters sind, aus. Wir können ebenfalls für jedes Cluster ein paar Filme ausgeben, um das Cluster genauer beschreiben zu können."
   ]
  },
  {
   "cell_type": "code",
   "execution_count": 19,
   "metadata": {},
   "outputs": [
    {
     "name": "stdout",
     "output_type": "stream",
     "text": [
      "\n",
      "Cluster 0:\n",
      "police, man, car, room, prison, officer, money, time, guard, job, away, film, building, house, friend\n",
      "\n",
      "Cluster 1:\n",
      "car, apartment, man, money, gun, home, time, room, away, police, wife, street, door, friend, life\n",
      "\n",
      "Cluster 2:\n",
      "life, letter, story, film, friend, husband, time, wife, love, new, child, man, boy, school, book\n",
      "\n",
      "Cluster 3:\n",
      "room, door, voice, away, man, time, new, group, inside, power, suddenly, wall, head, like, large\n",
      "\n",
      "Cluster 4:\n",
      "family, father, mother, son, house, daughter, old, child, home, girl, police, wife, young, sister, time\n",
      "\n",
      "Cluster 5:\n",
      "man, town, brother, money, girl, son, home, father, house, woman, wife, hand, train, away, local\n",
      "\n",
      "Cluster 6:\n",
      "soldier, man, officer, war, father, attack, battle, fire, gun, time, group, train, death, escape, woman\n"
     ]
    }
   ],
   "source": [
    "true_k = np.unique(data['cluster']).shape[0]\n",
    "# Indizes von Tokens pro Cluster nach Relevanz sortieren\n",
    "order_centroids = model.cluster_centers_.argsort()[:, ::-1]\n",
    "# 10 wichtigsten Tokens von jeweiligem Cluster ausgeben\n",
    "for i in range(true_k):\n",
    "    print(\"\\nCluster {}:\\n{}\".format(i, ', '.join(feature_names[ind] for ind in order_centroids[i, :15])))"
   ]
  },
  {
   "cell_type": "markdown",
   "metadata": {},
   "source": [
    "## Clusterzuordnungen\n",
    "\n",
    "Wir können dann versuchen jedes Cluster durch ein Genre zu beschreiben."
   ]
  },
  {
   "cell_type": "code",
   "execution_count": 20,
   "metadata": {},
   "outputs": [
    {
     "name": "stdout",
     "output_type": "stream",
     "text": [
      "\n",
      "Cluster 0: 24 Filme\n",
      "The Shawshank Redemption, The Dark Knight, The Usual Suspects, The Departed, The Intouchables, The Dark Knight Rises, Sunset Blvd., Reservoir Dogs, A Clockwork Orange, North by Northwest\n",
      "\n",
      "Cluster 1: 33 Filme\n",
      "Pulp Fiction, Fight Club, Inception, Goodfellas, Back to the Future, Léon: The Professional, Joker, Oldboy, The Lives of Others, Andhadhun\n",
      "\n",
      "Cluster 2: 44 Filme\n",
      "12 Angry Men, Hamilton, Forrest Gump, Anand, Cinema Paradiso, Casablanca, Avengers: Endgame, Once Upon a Time in America, Memento, Good Will Hunting\n",
      "\n",
      "Cluster 3: 44 Filme\n",
      "The Lord of the Rings: The Return of the King, The Lord of the Rings: The Fellowship of the Ring, Terminator 2: Judgment Day, The Lion King, Whiplash, Seven Samurai, Avengers: Infinity War, Spider-Man: Into the Spider-Verse, The Shining, WALL·E\n",
      "\n",
      "Cluster 4: 32 Filme\n",
      "The Godfather, The Godfather: Part II, Psycho, Grave of the Fireflies, Gladiator, The Pianist, 3 Idiots, Coco, Dangal, The Hunt\n",
      "\n",
      "Cluster 5: 36 Filme\n",
      "Schindler's List, Once Upon a Time in the West, American History X, The Prestige, It's a Wonderful Life, Django Unchained, Princess Mononoke, City Lights, Your Name., Lawrence of Arabia\n",
      "\n",
      "Cluster 6: 24 Filme\n",
      "The Good, the Bad and the Ugly, Raiders of the Lost Ark, Paths of Glory, 1917, The Great Dictator, Inglourious Basterds, Braveheart, Dr. Strangelove or: How I Learned to Stop Worrying and Love the Bomb, Apocalypse Now, Saving Private Ryan\n"
     ]
    }
   ],
   "source": [
    "for i in range(len(set(model.labels_))):\n",
    "    indices = np.where(data['cluster'] == i)[0].tolist()\n",
    "    print('\\nCluster {}: {} Filme\\n{}'.format(i, len(indices), ', '.join([data['title'][j] for j in indices[:10]])))"
   ]
  },
  {
   "cell_type": "markdown",
   "metadata": {},
   "source": [
    "* Cluster 0: Abenteuer\n",
    "* Cluster 1: Action, Krimi\n",
    "* Cluster 2: Drama, Krimi\n",
    "* Cluster 3: Emotionales Drama\n",
    "* Cluster 4: Action, Abenteuer, Scifi, Krieg\n",
    "*  Cluster 5: Misteriös, Drama, Krieg\n",
    "* Cluster 6: Drama, History, Gewalt\n",
    "\n",
    "Was ebenfalls für die Clusteraufteilung spricht ist der Fakt, dass Sequels mit ähnlicher Story dem gleichen Cluster zugeordnet wurden, siehe beispielsweise: Der Herr der Ringe, der Pate. Trotzdem gibt es ein paar Filme die sich inhaltlich von anderen innerhalb des gleichen Clusters unterschieden, wie beispielsweise Inception und Toy Story."
   ]
  },
  {
   "cell_type": "markdown",
   "metadata": {},
   "source": [
    "## Ähnlichkeitsanalyse der Filme eines Clusters\n",
    "\n",
    "Nachdem wir nun Filme einem bestimmten Schorre zugeordnet haben, können wir die Ähnlichkeiten verschiedene Filme berechnen. Am sinnvollsten ist es Filme des gleichen Clusters zu vergleichen, da diese sich inhaltlich am ähnlichsten sind.\n",
    "\n",
    "spaCy bietet hierfür eine Methode namens `similarity()`, die die Kosinus Ähnlichkeit zwischen zwei Vektoren (z.B. Token oder Dokumenten) berechnet. spaCy setzt hierfür voraus, dass man ein Sprachmodell verwendet, welches über Wort Vektoren verfügt. Wir importieren deswegen zuerst ein umfangreicheres Sprachmodell."
   ]
  },
  {
   "cell_type": "code",
   "execution_count": 21,
   "metadata": {},
   "outputs": [],
   "source": [
    "# Erweitertes Sprachmodel laden (enthält Vekoren)\n",
    "nlp = spacy.load(\"en_core_web_lg\")"
   ]
  },
  {
   "cell_type": "markdown",
   "metadata": {},
   "source": [
    "Der folgende Algorithmus berechnet somit für jeden Film in jedem Cluster mit jedem weiteren Film des Clusters dessen Kosinus Ähnlichkeit und speichert diese gerundet in einer Confusion Matrix. Man erhält folgende Tabelle, wobei jede Reihe einen Film darstellt und jede Spalte dessen Änlichkeit zu einem weiteren Film."
   ]
  },
  {
   "cell_type": "code",
   "execution_count": null,
   "metadata": {},
   "outputs": [],
   "source": [
    "values = []\n",
    "for i in range(k):\n",
    "    indices_cluster = data.index[data['cluster'] == i].tolist()\n",
    "    for j in range(len(indices_cluster)):\n",
    "        row = {'title': data['title'][indices_cluster[j]]}\n",
    "        for y in range(len(indices_cluster)):\n",
    "            row[data['title'][indices_cluster[y]]] = round(nlp(data['bow'][indices_cluster[j]]).similarity(nlp(data['bow'][indices_cluster[y]])), 3)\n",
    "        values.append(row)\n",
    "similarity = pd.DataFrame(values)"
   ]
  },
  {
   "cell_type": "code",
   "execution_count": null,
   "metadata": {},
   "outputs": [],
   "source": [
    "similarity"
   ]
  },
  {
   "cell_type": "markdown",
   "metadata": {},
   "source": [
    "## Min-Max-Normalisierung\n",
    "\n",
    "Wie man zuvor erkennen konnte, sind die Ähnlichkeiten aller Filme eines Clusters relativ hoch. Dies liegt an der doch größeren Anzahl an selben Wörtern in jeder Zusammenfassung. Es bietet sich daher an alle Ergebnisse zu normalisieren, um ein breiteres Spektrum an Ähnlichkeiten zu erhalten. Die sogenannte Min-Max-Normalisierung bietet sich dafür an. Es wird der minimale- und maximale Wert der Confusion Matrix benötigt:"
   ]
  },
  {
   "cell_type": "code",
   "execution_count": null,
   "metadata": {},
   "outputs": [],
   "source": [
    "minima = min(similarity.min(axis = 1).values)\n",
    "minima"
   ]
  },
  {
   "cell_type": "code",
   "execution_count": null,
   "metadata": {},
   "outputs": [],
   "source": [
    "maxima = max(similarity.max(axis = 1).values)\n",
    "maxima"
   ]
  },
  {
   "cell_type": "markdown",
   "metadata": {},
   "source": [
    "Es wird vorrübergehend die Spalte der Titel entfernt, damit alle Werte Zahlen entsprechen und normalisiert werden können."
   ]
  },
  {
   "cell_type": "code",
   "execution_count": null,
   "metadata": {},
   "outputs": [],
   "source": [
    "titles = similarity['title']\n",
    "similarity = similarity.drop(['title'], axis=1)"
   ]
  },
  {
   "cell_type": "markdown",
   "metadata": {},
   "source": [
    "Anhand der folgenden Formel können unsere Daten normalisiert werden."
   ]
  },
  {
   "cell_type": "code",
   "execution_count": null,
   "metadata": {},
   "outputs": [],
   "source": [
    "similarity = (similarity - min(similarity.min(axis = 1).values))/(max(similarity.max(axis = 1).values) - min(similarity.min(axis = 1).values))"
   ]
  },
  {
   "cell_type": "markdown",
   "metadata": {},
   "source": [
    "Wir konkatinieren wiederrum unsere Titel-Spalte mit den nun normalisieren Ähnlichkeiten."
   ]
  },
  {
   "cell_type": "code",
   "execution_count": null,
   "metadata": {},
   "outputs": [],
   "source": [
    "similarity = pd.concat([titles, similarity], axis=1)\n",
    "similarity"
   ]
  },
  {
   "cell_type": "markdown",
   "metadata": {},
   "source": [
    "Alle Werte wurden somit auf einen Wertebereich zwischen 0 und 1 skaliert, wobei 0 einer Ähnlichkeit von 0.788 und 1 einer Ähnlichkeit von 1 entspricht."
   ]
  },
  {
   "cell_type": "markdown",
   "metadata": {},
   "source": [
    "## Beispiel: Filmempfehlung\n",
    "\n",
    "Ein letztes Beispiel soll nun unseren anfänglich definierten Anwendungsfall darstellen. Wir gehen davon aus, dass ein Nutzer den Film Inception angesehen hat, begeistert war und nun einen möglichst ähnlichen Titel schauen möchte. \n",
    "\n",
    "Wir identifizieren hierfür den Film Inception in unserer Datenstruktur (in einer realen Anwendung beispielsweise eine Datenbank). Wir transponieren nun unseren Datensatz bestehend aus einem Film und dessen Ähnlichkeiten zu weiteren Filmen aus dem gleichen Cluster, um einen Spaltenvektor zu erlangen. Schlussendlich sortieren wir unsere Liste der Ähnlichkeiten in absteigender Reihenfolge (\"Order By\"-Statement Datenbank)."
   ]
  },
  {
   "cell_type": "markdown",
   "metadata": {},
   "source": [
    "Achsen swappen"
   ]
  },
  {
   "cell_type": "code",
   "execution_count": null,
   "metadata": {},
   "outputs": [],
   "source": [
    "inception = similarity.iloc[[0]]\n",
    "inception = inception.T\n",
    "inception = inception.drop(inception.index[0])"
   ]
  },
  {
   "cell_type": "code",
   "execution_count": null,
   "metadata": {},
   "outputs": [],
   "source": [
    "inception.sort_values(by=[0], ascending=False)"
   ]
  },
  {
   "cell_type": "markdown",
   "metadata": {},
   "source": [
    "Wir sind nun in der Lage Vorschläge an inhaltlich ähnlichen Titel auszusprechen. Wir können hierfür eine Reihe von Filmen (siehe Netflix-Beispiel Übersicht) visualisieren oder einen einzelnen Film ausgeben. Man muss beachten, dass man hierbei den gleichen Titel nicht vorschlägt. In einem realen Anwendungsfall könnte man ebenfalls alle Titel, welche der Nutzer bereits gesehen hat, exkludieren. Beispielsweise könnte man dem Nutzer als nächstes den Film: Die Truman Show empfehlen. Dieser passt inhaltlich zu Inception, da in beiden Filmen teilweise um eine Simulation dreht. "
   ]
  },
  {
   "cell_type": "markdown",
   "metadata": {},
   "source": [
    "## Fazit\n",
    "\n",
    "Mithilfe einer durch einen Crawler erstellten Datenbasis, geeigneten Vorverarbeitung der Daten und k-Means Clustering Algorithmus konnten wir unsere Daten bestehend aus Film Zusammenfassungen inhaltlich Clustern. Mithilfe der Kosinus Ähnlichkeit konnten wir alle Filme in einem Cluster vergleichen um letztendlich einen Teil eines realen Anwendungsfalls von Natural Language Processing und Maschinen Learning in Streaming-Anwendungen abzubilden.\n",
    "\n",
    "* [Zurück zur Übersicht](./0_nlp_intro_schlaak_weise.ipynb)"
   ]
  }
 ],
 "metadata": {
  "kernelspec": {
   "display_name": "Python 3 - NLP",
   "language": "python",
   "name": "nlp"
  },
  "language_info": {
   "codemirror_mode": {
    "name": "ipython",
    "version": 3
   },
   "file_extension": ".py",
   "mimetype": "text/x-python",
   "name": "python",
   "nbconvert_exporter": "python",
   "pygments_lexer": "ipython3",
   "version": "3.8.2"
  }
 },
 "nbformat": 4,
 "nbformat_minor": 4
}
