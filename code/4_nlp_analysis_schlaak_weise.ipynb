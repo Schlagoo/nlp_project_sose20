{
 "cells": [
  {
   "cell_type": "markdown",
   "metadata": {},
   "source": [
    "# Transformation der Daten\n",
    "\n",
    "In diesem Notebook sollen vorher verarbeitete Daten der Filmzusammenfassungen genutzt werden, um einen weiteren Mehrwehrt zu generieren. Das Ziel ist es, die Funktionalität eines konkreten Anwendungsfalls von Machine Learnining (ML) im Bereich der Filme zu realisieren.\n",
    "\n",
    "### Problemstellung\n",
    "\n",
    "Wir möchten uns in diesem Projekt letztendlich damit beschäftigen, eine Clusteringalgorithmus zu entwerfen, welcher uns eine Ähnlichkeitsanalyse von Filmen erlaubt. Dieses Thema interessiert und vor allem, da es ein konkreten Anwendungsfall für die Vorhersage von ähnlichen Filmen, gerade im Bereich des Onlinestreamings, darstellt. Zudem können wir uns mit einem aus der Vorlesung bekannten Clustering-Algorithmus beschäftigen und darauf aufbauend unser Wissen vertiefen."
   ]
  },
  {
   "cell_type": "markdown",
   "metadata": {},
   "source": [
    "### Anwendungsbeispiel\n",
    "\n",
    "Die amerikanische Onlinestreaming-Plattform [Netflix](https://www.netflix.com/de-en/) bietet beispielsweise ein Feature, wobei weitere Vorschläge, basierend auf dem Konsum des Kunden, dargestellt werden. \n",
    "\n",
    "* TODO: BILD\n",
    "\n",
    "Welche Datenbasis hierfür verwendet wird ist unklar. Es kommen generell mehrere Quellen in Frage:\n",
    "\n",
    "* Bewertungen des Nutzers\n",
    "* Streaming-Verlauf des Nutzers\n",
    "* Filme des gleichen Genres\n",
    "* Inhaltlich ähnliche Filme\n",
    "* Filmneuheiten\n",
    "* uvm.\n",
    "\n",
    "Welche Quelle Netflix für ihr Feature nutzt bleibt unklar. Sehr wahrscheinlich handelt es sich dabei um eine Kombination vorherigen Quellen. \n",
    "\n",
    "### Idee\n",
    "\n",
    "Wir möchten uns im Rahmen dieses Projekts mit einer Variante dieses Features beschäftigen, der Generierung von Vorschlägen basierend auf inhaltlicher Ähnlichkeit. Hierzu nutzen wir inhaltliche Zusammenfassungen der Filme in Textform, welche wir durch einen selbstgeschriebenen Crawler generiert haben.\n",
    "\n",
    "## Module importieren"
   ]
  },
  {
   "cell_type": "code",
   "execution_count": 1,
   "metadata": {},
   "outputs": [],
   "source": [
    "import pandas as pd\n",
    "from sklearn.feature_extraction.text import TfidfVectorizer\n",
    "from sklearn.cluster import KMeans\n",
    "from sklearn.metrics import adjusted_rand_score\n",
    "import spacy\n",
    "import numpy as np\n",
    "import matplotlib.pyplot as plt\n",
    "from sklearn.model_selection import train_test_split"
   ]
  },
  {
   "cell_type": "markdown",
   "metadata": {},
   "source": [
    "## Daten einlesen"
   ]
  },
  {
   "cell_type": "code",
   "execution_count": 2,
   "metadata": {},
   "outputs": [],
   "source": [
    "PATH_TO_DATA = '../data/movies.json'\n",
    "# JSON Daten in Dataframe lesen\n",
    "data = pd.read_json(PATH_TO_DATA)"
   ]
  },
  {
   "cell_type": "code",
   "execution_count": 3,
   "metadata": {},
   "outputs": [],
   "source": [
    "nlp = spacy.load(\"en_core_web_sm\")"
   ]
  },
  {
   "cell_type": "code",
   "execution_count": 4,
   "metadata": {},
   "outputs": [
    {
     "name": "stdout",
     "output_type": "stream",
     "text": [
      "237\n"
     ]
    }
   ],
   "source": [
    "disclaimer = 'It looks like we don\\'t have a Synopsis for this title yet.'\n",
    "for index, movie in data.iterrows():\n",
    "    if disclaimer in movie['synopsis']:\n",
    "        data = data.drop(index)\n",
    "print(len(data))"
   ]
  },
  {
   "cell_type": "code",
   "execution_count": 5,
   "metadata": {},
   "outputs": [],
   "source": [
    "processed_data = []\n",
    "for index, movie in data.iterrows():\n",
    "    # Berechnen der Anzahl an Wörtern\n",
    "    processed_data.append({'title': movie['title'], 'bow': ' '.join([str(token.lemma_).lower() for token in nlp(movie['synopsis']) if not token.ent_type_ and not token.is_stop and not token.is_punct and token.pos_ != 'VERB'])})\n",
    "data = pd.DataFrame(processed_data)"
   ]
  },
  {
   "cell_type": "markdown",
   "metadata": {},
   "source": [
    "Das DataFrame sieht nun folgendermaßen aus:"
   ]
  },
  {
   "cell_type": "code",
   "execution_count": 6,
   "metadata": {},
   "outputs": [
    {
     "data": {
      "text/html": [
       "<div>\n",
       "<style scoped>\n",
       "    .dataframe tbody tr th:only-of-type {\n",
       "        vertical-align: middle;\n",
       "    }\n",
       "\n",
       "    .dataframe tbody tr th {\n",
       "        vertical-align: top;\n",
       "    }\n",
       "\n",
       "    .dataframe thead th {\n",
       "        text-align: right;\n",
       "    }\n",
       "</style>\n",
       "<table border=\"1\" class=\"dataframe\">\n",
       "  <thead>\n",
       "    <tr style=\"text-align: right;\">\n",
       "      <th></th>\n",
       "      <th>title</th>\n",
       "      <th>bow</th>\n",
       "    </tr>\n",
       "  </thead>\n",
       "  <tbody>\n",
       "    <tr>\n",
       "      <th>0</th>\n",
       "      <td>The Shawshank Redemption</td>\n",
       "      <td>banker wife lover golf pro state death penalty...</td>\n",
       "    </tr>\n",
       "    <tr>\n",
       "      <th>1</th>\n",
       "      <td>The Dark Knight</td>\n",
       "      <td>movie gang man clown mask bank mob large porti...</td>\n",
       "    </tr>\n",
       "    <tr>\n",
       "      <th>2</th>\n",
       "      <td>The Godfather</td>\n",
       "      <td>guest wedding reception daughter connie head f...</td>\n",
       "    </tr>\n",
       "    <tr>\n",
       "      <th>3</th>\n",
       "      <td>The Godfather: Part II</td>\n",
       "      <td>godfather ii parallel storyline chief event mo...</td>\n",
       "    </tr>\n",
       "    <tr>\n",
       "      <th>4</th>\n",
       "      <td>Pulp Fiction</td>\n",
       "      <td>restaurant young couple pro con bank versus li...</td>\n",
       "    </tr>\n",
       "  </tbody>\n",
       "</table>\n",
       "</div>"
      ],
      "text/plain": [
       "                      title                                                bow\n",
       "0  The Shawshank Redemption  banker wife lover golf pro state death penalty...\n",
       "1           The Dark Knight  movie gang man clown mask bank mob large porti...\n",
       "2             The Godfather  guest wedding reception daughter connie head f...\n",
       "3    The Godfather: Part II  godfather ii parallel storyline chief event mo...\n",
       "4              Pulp Fiction  restaurant young couple pro con bank versus li..."
      ]
     },
     "execution_count": 6,
     "metadata": {},
     "output_type": "execute_result"
    }
   ],
   "source": [
    "data.head()"
   ]
  },
  {
   "cell_type": "markdown",
   "metadata": {},
   "source": [
    "## Bag of Words in Datei schreiben\n",
    "\n",
    "Damit wir die Vorverarbeitung der Daten nicht bei jedem Neustart des Trainingsprozesses durchführen müssen, schreiben wir eine neue Datei."
   ]
  },
  {
   "cell_type": "code",
   "execution_count": 14,
   "metadata": {},
   "outputs": [],
   "source": [
    "data.to_csv(\"../data/bag_of_words.csv\")"
   ]
  },
  {
   "cell_type": "markdown",
   "metadata": {},
   "source": [
    "## Features\n",
    "\n",
    "* Word-Matrix\n",
    "* Frequency\n",
    "* Normalisieren\n",
    "\n",
    "TODO: Vektorisieren etc. selbst machen?"
   ]
  },
  {
   "cell_type": "code",
   "execution_count": 214,
   "metadata": {},
   "outputs": [],
   "source": [
    "# Matrix von Token mit Frequenz plus Normalisieren mittels \"Inverse-document-frequency\" (IDF)\n",
    "vectorizer = TfidfVectorizer(max_df=0.9, min_df=0.2, ngram_range=(1,3))\n",
    "# Lernen des Vokabulars und IDF\n",
    "X = vectorizer.fit_transform(data['bow'])"
   ]
  },
  {
   "cell_type": "code",
   "execution_count": 215,
   "metadata": {},
   "outputs": [
    {
     "data": {
      "text/plain": [
       "(237, 196)"
      ]
     },
     "execution_count": 215,
     "metadata": {},
     "output_type": "execute_result"
    }
   ],
   "source": [
    "X.shape"
   ]
  },
  {
   "cell_type": "code",
   "execution_count": 216,
   "metadata": {},
   "outputs": [
    {
     "data": {
      "text/plain": [
       "array([[0.0353196 , 0.02406543, 0.        , ..., 0.02499595, 0.07219628,\n",
       "        0.01581857],\n",
       "       [0.04885937, 0.02219394, 0.04252334, ..., 0.        , 0.02219394,\n",
       "        0.02917682],\n",
       "       [0.        , 0.        , 0.        , ..., 0.        , 0.        ,\n",
       "        0.12084285],\n",
       "       ...,\n",
       "       [0.        , 0.        , 0.04800141, ..., 0.        , 0.        ,\n",
       "        0.06587104],\n",
       "       [0.        , 0.        , 0.        , ..., 0.07059206, 0.        ,\n",
       "        0.13402154],\n",
       "       [0.0483163 , 0.06584177, 0.        , ..., 0.        , 0.        ,\n",
       "        0.        ]])"
      ]
     },
     "execution_count": 216,
     "metadata": {},
     "output_type": "execute_result"
    }
   ],
   "source": [
    "X.toarray()"
   ]
  },
  {
   "cell_type": "code",
   "execution_count": 217,
   "metadata": {},
   "outputs": [
    {
     "data": {
      "text/plain": [
       "['able',\n",
       " 'action',\n",
       " 'actually',\n",
       " 'alive',\n",
       " 'angry',\n",
       " 'apartment',\n",
       " 'apparently',\n",
       " 'area',\n",
       " 'arm',\n",
       " 'attack',\n",
       " 'attempt',\n",
       " 'attention',\n",
       " 'away',\n",
       " 'bad',\n",
       " 'bar',\n",
       " 'battle',\n",
       " 'bed',\n",
       " 'big',\n",
       " 'black',\n",
       " 'blood',\n",
       " 'body',\n",
       " 'book',\n",
       " 'boy',\n",
       " 'brother',\n",
       " 'building',\n",
       " 'business',\n",
       " 'car',\n",
       " 'case',\n",
       " 'chance',\n",
       " 'charge',\n",
       " 'child',\n",
       " 'city',\n",
       " 'close',\n",
       " 'company',\n",
       " 'completely',\n",
       " 'control',\n",
       " 'conversation',\n",
       " 'couple',\n",
       " 'crime',\n",
       " 'dark',\n",
       " 'daughter',\n",
       " 'day',\n",
       " 'dead',\n",
       " 'death',\n",
       " 'despite',\n",
       " 'different',\n",
       " 'doctor',\n",
       " 'door',\n",
       " 'earlier',\n",
       " 'end',\n",
       " 'entire',\n",
       " 'escape',\n",
       " 'event',\n",
       " 'eventually',\n",
       " 'eye',\n",
       " 'face',\n",
       " 'fact',\n",
       " 'family',\n",
       " 'far',\n",
       " 'father',\n",
       " 'fight',\n",
       " 'film',\n",
       " 'final',\n",
       " 'finally',\n",
       " 'fire',\n",
       " 'floor',\n",
       " 'food',\n",
       " 'foot',\n",
       " 'force',\n",
       " 'free',\n",
       " 'friend',\n",
       " 'game',\n",
       " 'girl',\n",
       " 'good',\n",
       " 'great',\n",
       " 'ground',\n",
       " 'group',\n",
       " 'guard',\n",
       " 'gun',\n",
       " 'hand',\n",
       " 'happy',\n",
       " 'hard',\n",
       " 'head',\n",
       " 'help',\n",
       " 'high',\n",
       " 'home',\n",
       " 'hospital',\n",
       " 'house',\n",
       " 'husband',\n",
       " 'idea',\n",
       " 'immediately',\n",
       " 'information',\n",
       " 'inside',\n",
       " 'instead',\n",
       " 'job',\n",
       " 'large',\n",
       " 'late',\n",
       " 'later',\n",
       " 'leg',\n",
       " 'letter',\n",
       " 'life',\n",
       " 'light',\n",
       " 'like',\n",
       " 'line',\n",
       " 'little',\n",
       " 'local',\n",
       " 'long',\n",
       " 'love',\n",
       " 'low',\n",
       " 'man',\n",
       " 'meeting',\n",
       " 'member',\n",
       " 'mind',\n",
       " 'moment',\n",
       " 'money',\n",
       " 'mother',\n",
       " 'movie',\n",
       " 'murder',\n",
       " 'near',\n",
       " 'nearby',\n",
       " 'nearly',\n",
       " 'new',\n",
       " 'news',\n",
       " 'night',\n",
       " 'note',\n",
       " 'number',\n",
       " 'office',\n",
       " 'officer',\n",
       " 'old',\n",
       " 'open',\n",
       " 'order',\n",
       " 'outside',\n",
       " 'paper',\n",
       " 'parent',\n",
       " 'party',\n",
       " 'past',\n",
       " 'people',\n",
       " 'person',\n",
       " 'phone',\n",
       " 'picture',\n",
       " 'piece',\n",
       " 'place',\n",
       " 'plan',\n",
       " 'point',\n",
       " 'police',\n",
       " 'power',\n",
       " 'prison',\n",
       " 'question',\n",
       " 'quickly',\n",
       " 'ready',\n",
       " 'real',\n",
       " 'reason',\n",
       " 'relationship',\n",
       " 'rest',\n",
       " 'return',\n",
       " 'right',\n",
       " 'room',\n",
       " 'scene',\n",
       " 'school',\n",
       " 'short',\n",
       " 'shot',\n",
       " 'simply',\n",
       " 'sister',\n",
       " 'situation',\n",
       " 'slowly',\n",
       " 'small',\n",
       " 'soldier',\n",
       " 'son',\n",
       " 'soon',\n",
       " 'station',\n",
       " 'story',\n",
       " 'street',\n",
       " 'suddenly',\n",
       " 'table',\n",
       " 'thing',\n",
       " 'time',\n",
       " 'town',\n",
       " 'train',\n",
       " 'tree',\n",
       " 'true',\n",
       " 'unable',\n",
       " 'voice',\n",
       " 'wall',\n",
       " 'war',\n",
       " 'water',\n",
       " 'way',\n",
       " 'well',\n",
       " 'wife',\n",
       " 'window',\n",
       " 'woman',\n",
       " 'word',\n",
       " 'work',\n",
       " 'world',\n",
       " 'wrong',\n",
       " 'year',\n",
       " 'young']"
      ]
     },
     "execution_count": 217,
     "metadata": {},
     "output_type": "execute_result"
    }
   ],
   "source": [
    "# Vokabular\n",
    "feature_names = vectorizer.get_feature_names()\n",
    "feature_names"
   ]
  },
  {
   "cell_type": "code",
   "execution_count": 218,
   "metadata": {},
   "outputs": [
    {
     "data": {
      "text/plain": [
       "196"
      ]
     },
     "execution_count": 218,
     "metadata": {},
     "output_type": "execute_result"
    }
   ],
   "source": [
    "len(feature_names)"
   ]
  },
  {
   "cell_type": "markdown",
   "metadata": {},
   "source": [
    "## Clustering\n",
    "\n",
    "* Um evaluieren zu koennen 1- len(data) - 1 Cluster ausprobieren, inertia abspeichern und in Graph visualisieren\n",
    "* k waehlen mit Begruendung"
   ]
  },
  {
   "cell_type": "code",
   "execution_count": 219,
   "metadata": {},
   "outputs": [],
   "source": [
    "wss = []\n",
    "limit = 11\n",
    "for k in range(1, limit):\n",
    "    model = KMeans(n_clusters=k, max_iter=100)\n",
    "    model.fit(X)\n",
    "    wss.append(model.inertia_)"
   ]
  },
  {
   "cell_type": "code",
   "execution_count": 220,
   "metadata": {},
   "outputs": [
    {
     "data": {
      "image/png": "[encoded data removed]",
      "text/plain": [
       "<Figure size 432x288 with 1 Axes>"
      ]
     },
     "metadata": {
      "needs_background": "light"
     },
     "output_type": "display_data"
    }
   ],
   "source": [
    "plt.plot(range(1, limit), wss)\n",
    "plt.xlabel('k')\n",
    "plt.ylabel('WSS')\n",
    "plt.show()"
   ]
  },
  {
   "cell_type": "markdown",
   "metadata": {},
   "source": [
    "## Ergebnisevaluierung"
   ]
  },
  {
   "cell_type": "code",
   "execution_count": 221,
   "metadata": {},
   "outputs": [
    {
     "data": {
      "text/plain": [
       "KMeans(max_iter=100, n_clusters=7)"
      ]
     },
     "execution_count": 221,
     "metadata": {},
     "output_type": "execute_result"
    }
   ],
   "source": [
    "k = 7\n",
    "model = KMeans(n_clusters=k, init='k-means++', max_iter=100)\n",
    "model.fit(X)"
   ]
  },
  {
   "cell_type": "code",
   "execution_count": 222,
   "metadata": {},
   "outputs": [
    {
     "data": {
      "text/plain": [
       "12"
      ]
     },
     "execution_count": 222,
     "metadata": {},
     "output_type": "execute_result"
    }
   ],
   "source": [
    "model.n_iter_"
   ]
  },
  {
   "cell_type": "code",
   "execution_count": 223,
   "metadata": {},
   "outputs": [
    {
     "data": {
      "text/plain": [
       "161.57974963554037"
      ]
     },
     "execution_count": 223,
     "metadata": {},
     "output_type": "execute_result"
    }
   ],
   "source": [
    "model.inertia_"
   ]
  },
  {
   "cell_type": "code",
   "execution_count": 224,
   "metadata": {},
   "outputs": [],
   "source": [
    "data['cluster'] = model.labels_.tolist()"
   ]
  },
  {
   "cell_type": "code",
   "execution_count": 225,
   "metadata": {},
   "outputs": [
    {
     "data": {
      "text/html": [
       "<div>\n",
       "<style scoped>\n",
       "    .dataframe tbody tr th:only-of-type {\n",
       "        vertical-align: middle;\n",
       "    }\n",
       "\n",
       "    .dataframe tbody tr th {\n",
       "        vertical-align: top;\n",
       "    }\n",
       "\n",
       "    .dataframe thead th {\n",
       "        text-align: right;\n",
       "    }\n",
       "</style>\n",
       "<table border=\"1\" class=\"dataframe\">\n",
       "  <thead>\n",
       "    <tr style=\"text-align: right;\">\n",
       "      <th></th>\n",
       "      <th>title</th>\n",
       "      <th>bow</th>\n",
       "      <th>cluster</th>\n",
       "    </tr>\n",
       "  </thead>\n",
       "  <tbody>\n",
       "    <tr>\n",
       "      <th>0</th>\n",
       "      <td>The Shawshank Redemption</td>\n",
       "      <td>banker wife lover golf pro state death penalty...</td>\n",
       "      <td>3</td>\n",
       "    </tr>\n",
       "    <tr>\n",
       "      <th>1</th>\n",
       "      <td>The Dark Knight</td>\n",
       "      <td>movie gang man clown mask bank mob large porti...</td>\n",
       "      <td>1</td>\n",
       "    </tr>\n",
       "    <tr>\n",
       "      <th>2</th>\n",
       "      <td>The Godfather</td>\n",
       "      <td>guest wedding reception daughter connie head f...</td>\n",
       "      <td>2</td>\n",
       "    </tr>\n",
       "    <tr>\n",
       "      <th>3</th>\n",
       "      <td>The Godfather: Part II</td>\n",
       "      <td>godfather ii parallel storyline chief event mo...</td>\n",
       "      <td>2</td>\n",
       "    </tr>\n",
       "    <tr>\n",
       "      <th>4</th>\n",
       "      <td>Pulp Fiction</td>\n",
       "      <td>restaurant young couple pro con bank versus li...</td>\n",
       "      <td>1</td>\n",
       "    </tr>\n",
       "  </tbody>\n",
       "</table>\n",
       "</div>"
      ],
      "text/plain": [
       "                      title  \\\n",
       "0  The Shawshank Redemption   \n",
       "1           The Dark Knight   \n",
       "2             The Godfather   \n",
       "3    The Godfather: Part II   \n",
       "4              Pulp Fiction   \n",
       "\n",
       "                                                 bow  cluster  \n",
       "0  banker wife lover golf pro state death penalty...        3  \n",
       "1  movie gang man clown mask bank mob large porti...        1  \n",
       "2  guest wedding reception daughter connie head f...        2  \n",
       "3  godfather ii parallel storyline chief event mo...        2  \n",
       "4  restaurant young couple pro con bank versus li...        1  "
      ]
     },
     "execution_count": 225,
     "metadata": {},
     "output_type": "execute_result"
    }
   ],
   "source": [
    "data.head()"
   ]
  },
  {
   "cell_type": "markdown",
   "metadata": {},
   "source": [
    "## Clustermerkmale\n",
    "\n",
    "* Cluster Feature untersuchen/interpretieren/visualieren"
   ]
  },
  {
   "cell_type": "code",
   "execution_count": 226,
   "metadata": {},
   "outputs": [
    {
     "name": "stdout",
     "output_type": "stream",
     "text": [
      "\n",
      "Cluster 0:\n",
      "room, voice, door, inside, man, water, away, wall, real, time, car, suddenly, new, home, group\n",
      "\n",
      "Cluster 1:\n",
      "car, police, man, money, apartment, room, home, time, gun, house, away, girl, wife, street, officer\n",
      "\n",
      "Cluster 2:\n",
      "father, family, life, son, house, friend, home, school, child, time, man, boy, story, young, letter\n",
      "\n",
      "Cluster 3:\n",
      "mother, prison, guard, man, time, sister, old, new, wife, house, soon, child, young, life, book\n",
      "\n",
      "Cluster 4:\n",
      "battle, son, force, power, father, attack, past, plan, city, war, death, fire, friend, time, hand\n",
      "\n",
      "Cluster 5:\n",
      "soldier, man, officer, war, attack, gun, fire, time, train, water, battle, order, group, escape, dead\n",
      "\n",
      "Cluster 6:\n",
      "man, woman, town, wife, face, child, hand, away, time, brother, good, book, body, room, husband\n"
     ]
    }
   ],
   "source": [
    "true_k = np.unique(data['cluster']).shape[0]\n",
    "# Indizes von Tokens pro Cluster nach Relevanz sortieren\n",
    "order_centroids = model.cluster_centers_.argsort()[:, ::-1]\n",
    "# 10 wichtigsten Tokens von jeweiligem Cluster ausgeben\n",
    "for i in range(true_k):\n",
    "    print(\"\\nCluster {}:\\n{}\".format(i, ', '.join(feature_names[ind] for ind in order_centroids[i, :15])))"
   ]
  },
  {
   "cell_type": "markdown",
   "metadata": {},
   "source": [
    "## Visualisierung der Clusterzuordnungen"
   ]
  },
  {
   "cell_type": "code",
   "execution_count": 228,
   "metadata": {},
   "outputs": [
    {
     "name": "stdout",
     "output_type": "stream",
     "text": [
      "\n",
      "Cluster 0: 29 Filme\n",
      "Inception, Whiplash, Spider-Man: Into the Spider-Verse, The Shining, WALL·E, Eternal Sunshine of the Spotless Mind, Toy Story, Toy Story 3, Alien, The Silence of the Lambs\n",
      "\n",
      "Cluster 1: 56 Filme\n",
      "The Dark Knight, Pulp Fiction, Fight Club, Back to the Future, Terminator 2: Judgment Day, Léon: The Professional, The Usual Suspects, The Departed, Joker, The Dark Knight Rises\n",
      "\n",
      "Cluster 2: 60 Filme\n",
      "The Godfather, The Godfather: Part II, 12 Angry Men, Forrest Gump, Goodfellas, Cinema Paradiso, The Lion King, The Pianist, Casablanca, The Intouchables\n",
      "\n",
      "Cluster 3: 18 Filme\n",
      "The Shawshank Redemption, Psycho, Grave of the Fireflies, Oldboy, Incendies, Life Is Beautiful, The Green Mile, One Flew Over the Cuckoo's Nest, The Grand Budapest Hotel, Portrait of a Lady on Fire\n",
      "\n",
      "Cluster 4: 18 Filme\n",
      "The Lord of the Rings: The Return of the King, The Lord of the Rings: The Fellowship of the Ring, Hamilton, Gladiator, Seven Samurai, Avengers: Endgame, Avengers: Infinity War, Braveheart, Star Wars: Episode IV - A New Hope, Star Wars: Episode V - The Empire Strikes Back\n",
      "\n",
      "Cluster 5: 21 Filme\n",
      "The Good, the Bad and the Ugly, Raiders of the Lost Ark, Paths of Glory, 1917, The Great Dictator, Inglourious Basterds, Dr. Strangelove or: How I Learned to Stop Worrying and Love the Bomb, Apocalypse Now, Saving Private Ryan, Lawrence of Arabia\n",
      "\n",
      "Cluster 6: 35 Filme\n",
      "Schindler's List, Once Upon a Time in the West, Anand, American History X, The Prestige, Django Unchained, Princess Mononoke, Witness for the Prosecution, For a Few Dollars More, Yojimbo\n"
     ]
    }
   ],
   "source": [
    "for i in range(len(set(model.labels_))):\n",
    "    indices = np.where(data['cluster'] == i)[0].tolist()\n",
    "    print('\\nCluster {}: {} Filme\\n{}'.format(i, len(indices), ', '.join([data['title'][j] for j in indices[:10]])))"
   ]
  },
  {
   "cell_type": "markdown",
   "metadata": {},
   "source": [
    "## Ähnlichkeitsanalyse innerhalb Cluster"
   ]
  },
  {
   "cell_type": "code",
   "execution_count": 231,
   "metadata": {},
   "outputs": [],
   "source": [
    "# Erweitertes Sprachmodel laden (enthält Vekoren)\n",
    "nlp = spacy.load(\"en_core_web_lg\")"
   ]
  },
  {
   "cell_type": "code",
   "execution_count": 431,
   "metadata": {},
   "outputs": [],
   "source": [
    "values = []\n",
    "for i in range(k):\n",
    "    indices_cluster = data.index[data['cluster'] == i].tolist()\n",
    "    for j in range(1): #, len(indices_cluster)):\n",
    "        row = {'title': data['title'][indices_cluster[j]]}\n",
    "        for y in range(len(indices_cluster)):\n",
    "            row[data['title'][indices_cluster[y]]] = round(nlp(data['bow'][indices_cluster[j]]).similarity(nlp(data['bow'][indices_cluster[y]])), 3)\n",
    "        values.append(row)\n",
    "similarity = pd.DataFrame(values)"
   ]
  },
  {
   "cell_type": "code",
   "execution_count": 432,
   "metadata": {},
   "outputs": [
    {
     "data": {
      "text/html": [
       "<div>\n",
       "<style scoped>\n",
       "    .dataframe tbody tr th:only-of-type {\n",
       "        vertical-align: middle;\n",
       "    }\n",
       "\n",
       "    .dataframe tbody tr th {\n",
       "        vertical-align: top;\n",
       "    }\n",
       "\n",
       "    .dataframe thead th {\n",
       "        text-align: right;\n",
       "    }\n",
       "</style>\n",
       "<table border=\"1\" class=\"dataframe\">\n",
       "  <thead>\n",
       "    <tr style=\"text-align: right;\">\n",
       "      <th></th>\n",
       "      <th>title</th>\n",
       "      <th>Inception</th>\n",
       "      <th>Whiplash</th>\n",
       "      <th>Spider-Man: Into the Spider-Verse</th>\n",
       "      <th>The Shining</th>\n",
       "      <th>WALL·E</th>\n",
       "      <th>Eternal Sunshine of the Spotless Mind</th>\n",
       "      <th>Toy Story</th>\n",
       "      <th>Toy Story 3</th>\n",
       "      <th>Alien</th>\n",
       "      <th>...</th>\n",
       "      <th>Rebecca</th>\n",
       "      <th>Persona</th>\n",
       "      <th>12 Years a Slave</th>\n",
       "      <th>Unforgiven</th>\n",
       "      <th>The Seventh Seal</th>\n",
       "      <th>Pan's Labyrinth</th>\n",
       "      <th>To Kill a Mockingbird</th>\n",
       "      <th>Shutter Island</th>\n",
       "      <th>Raging Bull</th>\n",
       "      <th>Three Billboards Outside Ebbing, Missouri</th>\n",
       "    </tr>\n",
       "  </thead>\n",
       "  <tbody>\n",
       "    <tr>\n",
       "      <th>0</th>\n",
       "      <td>Inception</td>\n",
       "      <td>1.0</td>\n",
       "      <td>0.884</td>\n",
       "      <td>0.956</td>\n",
       "      <td>0.956</td>\n",
       "      <td>0.902</td>\n",
       "      <td>0.908</td>\n",
       "      <td>0.918</td>\n",
       "      <td>0.916</td>\n",
       "      <td>0.94</td>\n",
       "      <td>...</td>\n",
       "      <td>NaN</td>\n",
       "      <td>NaN</td>\n",
       "      <td>NaN</td>\n",
       "      <td>NaN</td>\n",
       "      <td>NaN</td>\n",
       "      <td>NaN</td>\n",
       "      <td>NaN</td>\n",
       "      <td>NaN</td>\n",
       "      <td>NaN</td>\n",
       "      <td>NaN</td>\n",
       "    </tr>\n",
       "    <tr>\n",
       "      <th>1</th>\n",
       "      <td>The Dark Knight</td>\n",
       "      <td>NaN</td>\n",
       "      <td>NaN</td>\n",
       "      <td>NaN</td>\n",
       "      <td>NaN</td>\n",
       "      <td>NaN</td>\n",
       "      <td>NaN</td>\n",
       "      <td>NaN</td>\n",
       "      <td>NaN</td>\n",
       "      <td>NaN</td>\n",
       "      <td>...</td>\n",
       "      <td>NaN</td>\n",
       "      <td>NaN</td>\n",
       "      <td>NaN</td>\n",
       "      <td>NaN</td>\n",
       "      <td>NaN</td>\n",
       "      <td>NaN</td>\n",
       "      <td>NaN</td>\n",
       "      <td>NaN</td>\n",
       "      <td>NaN</td>\n",
       "      <td>NaN</td>\n",
       "    </tr>\n",
       "    <tr>\n",
       "      <th>2</th>\n",
       "      <td>The Godfather</td>\n",
       "      <td>NaN</td>\n",
       "      <td>NaN</td>\n",
       "      <td>NaN</td>\n",
       "      <td>NaN</td>\n",
       "      <td>NaN</td>\n",
       "      <td>NaN</td>\n",
       "      <td>NaN</td>\n",
       "      <td>NaN</td>\n",
       "      <td>NaN</td>\n",
       "      <td>...</td>\n",
       "      <td>NaN</td>\n",
       "      <td>NaN</td>\n",
       "      <td>NaN</td>\n",
       "      <td>NaN</td>\n",
       "      <td>NaN</td>\n",
       "      <td>NaN</td>\n",
       "      <td>NaN</td>\n",
       "      <td>NaN</td>\n",
       "      <td>NaN</td>\n",
       "      <td>NaN</td>\n",
       "    </tr>\n",
       "    <tr>\n",
       "      <th>3</th>\n",
       "      <td>The Shawshank Redemption</td>\n",
       "      <td>NaN</td>\n",
       "      <td>NaN</td>\n",
       "      <td>NaN</td>\n",
       "      <td>NaN</td>\n",
       "      <td>NaN</td>\n",
       "      <td>NaN</td>\n",
       "      <td>NaN</td>\n",
       "      <td>NaN</td>\n",
       "      <td>NaN</td>\n",
       "      <td>...</td>\n",
       "      <td>NaN</td>\n",
       "      <td>NaN</td>\n",
       "      <td>NaN</td>\n",
       "      <td>NaN</td>\n",
       "      <td>NaN</td>\n",
       "      <td>NaN</td>\n",
       "      <td>NaN</td>\n",
       "      <td>NaN</td>\n",
       "      <td>NaN</td>\n",
       "      <td>NaN</td>\n",
       "    </tr>\n",
       "    <tr>\n",
       "      <th>4</th>\n",
       "      <td>The Lord of the Rings: The Return of the King</td>\n",
       "      <td>NaN</td>\n",
       "      <td>NaN</td>\n",
       "      <td>NaN</td>\n",
       "      <td>NaN</td>\n",
       "      <td>NaN</td>\n",
       "      <td>NaN</td>\n",
       "      <td>NaN</td>\n",
       "      <td>NaN</td>\n",
       "      <td>NaN</td>\n",
       "      <td>...</td>\n",
       "      <td>NaN</td>\n",
       "      <td>NaN</td>\n",
       "      <td>NaN</td>\n",
       "      <td>NaN</td>\n",
       "      <td>NaN</td>\n",
       "      <td>NaN</td>\n",
       "      <td>NaN</td>\n",
       "      <td>NaN</td>\n",
       "      <td>NaN</td>\n",
       "      <td>NaN</td>\n",
       "    </tr>\n",
       "    <tr>\n",
       "      <th>5</th>\n",
       "      <td>The Good, the Bad and the Ugly</td>\n",
       "      <td>NaN</td>\n",
       "      <td>NaN</td>\n",
       "      <td>NaN</td>\n",
       "      <td>NaN</td>\n",
       "      <td>NaN</td>\n",
       "      <td>NaN</td>\n",
       "      <td>NaN</td>\n",
       "      <td>NaN</td>\n",
       "      <td>NaN</td>\n",
       "      <td>...</td>\n",
       "      <td>NaN</td>\n",
       "      <td>NaN</td>\n",
       "      <td>NaN</td>\n",
       "      <td>NaN</td>\n",
       "      <td>NaN</td>\n",
       "      <td>NaN</td>\n",
       "      <td>NaN</td>\n",
       "      <td>NaN</td>\n",
       "      <td>NaN</td>\n",
       "      <td>NaN</td>\n",
       "    </tr>\n",
       "    <tr>\n",
       "      <th>6</th>\n",
       "      <td>Schindler's List</td>\n",
       "      <td>NaN</td>\n",
       "      <td>NaN</td>\n",
       "      <td>NaN</td>\n",
       "      <td>NaN</td>\n",
       "      <td>NaN</td>\n",
       "      <td>NaN</td>\n",
       "      <td>NaN</td>\n",
       "      <td>NaN</td>\n",
       "      <td>NaN</td>\n",
       "      <td>...</td>\n",
       "      <td>0.922</td>\n",
       "      <td>0.912</td>\n",
       "      <td>0.955</td>\n",
       "      <td>0.938</td>\n",
       "      <td>0.881</td>\n",
       "      <td>0.91</td>\n",
       "      <td>0.932</td>\n",
       "      <td>0.948</td>\n",
       "      <td>0.918</td>\n",
       "      <td>0.927</td>\n",
       "    </tr>\n",
       "  </tbody>\n",
       "</table>\n",
       "<p>7 rows × 238 columns</p>\n",
       "</div>"
      ],
      "text/plain": [
       "                                           title  Inception  Whiplash  Spider-Man: Into the Spider-Verse  The Shining  WALL·E  Eternal Sunshine of the Spotless Mind  Toy Story  Toy Story 3  Alien  ...  Rebecca  Persona  12 Years a Slave  Unforgiven  The Seventh Seal  Pan's Labyrinth  To Kill a Mockingbird  Shutter Island  Raging Bull  Three Billboards Outside Ebbing, Missouri\n",
       "0                                      Inception        1.0     0.884                              0.956        0.956   0.902                                  0.908      0.918        0.916   0.94  ...      NaN      NaN               NaN         NaN               NaN              NaN                    NaN             NaN          NaN                                        NaN\n",
       "1                                The Dark Knight        NaN       NaN                                NaN          NaN     NaN                                    NaN        NaN          NaN    NaN  ...      NaN      NaN               NaN         NaN               NaN              NaN                    NaN             NaN          NaN                                        NaN\n",
       "2                                  The Godfather        NaN       NaN                                NaN          NaN     NaN                                    NaN        NaN          NaN    NaN  ...      NaN      NaN               NaN         NaN               NaN              NaN                    NaN             NaN          NaN                                        NaN\n",
       "3                       The Shawshank Redemption        NaN       NaN                                NaN          NaN     NaN                                    NaN        NaN          NaN    NaN  ...      NaN      NaN               NaN         NaN               NaN              NaN                    NaN             NaN          NaN                                        NaN\n",
       "4  The Lord of the Rings: The Return of the King        NaN       NaN                                NaN          NaN     NaN                                    NaN        NaN          NaN    NaN  ...      NaN      NaN               NaN         NaN               NaN              NaN                    NaN             NaN          NaN                                        NaN\n",
       "5                 The Good, the Bad and the Ugly        NaN       NaN                                NaN          NaN     NaN                                    NaN        NaN          NaN    NaN  ...      NaN      NaN               NaN         NaN               NaN              NaN                    NaN             NaN          NaN                                        NaN\n",
       "6                               Schindler's List        NaN       NaN                                NaN          NaN     NaN                                    NaN        NaN          NaN    NaN  ...    0.922    0.912             0.955       0.938             0.881             0.91                  0.932           0.948        0.918                                      0.927\n",
       "\n",
       "[7 rows x 238 columns]"
      ]
     },
     "execution_count": 432,
     "metadata": {},
     "output_type": "execute_result"
    }
   ],
   "source": [
    "similarity"
   ]
  },
  {
   "cell_type": "markdown",
   "metadata": {},
   "source": [
    "## Min-Max-Normalisieren\n",
    "\n",
    "* Min und Max herausfinden\n",
    "* Alle Werte zwischen 0 und 1 normalisieren"
   ]
  },
  {
   "cell_type": "code",
   "execution_count": 433,
   "metadata": {},
   "outputs": [
    {
     "data": {
      "text/plain": [
       "0.788"
      ]
     },
     "execution_count": 433,
     "metadata": {},
     "output_type": "execute_result"
    }
   ],
   "source": [
    "minima = min(similarity.min(axis = 1).values)\n",
    "minima"
   ]
  },
  {
   "cell_type": "code",
   "execution_count": 434,
   "metadata": {},
   "outputs": [
    {
     "data": {
      "text/plain": [
       "1.0"
      ]
     },
     "execution_count": 434,
     "metadata": {},
     "output_type": "execute_result"
    }
   ],
   "source": [
    "maxima = max(similarity.max(axis = 1).values)\n",
    "maxima"
   ]
  },
  {
   "cell_type": "code",
   "execution_count": 435,
   "metadata": {},
   "outputs": [],
   "source": [
    "titles = similarity['title']\n",
    "similarity = similarity.drop(['title'], axis=1)"
   ]
  },
  {
   "cell_type": "code",
   "execution_count": 436,
   "metadata": {},
   "outputs": [],
   "source": [
    "similarity = (similarity - min(similarity.min(axis = 1).values))/(max(similarity.max(axis = 1).values) - min(similarity.min(axis = 1).values))"
   ]
  },
  {
   "cell_type": "code",
   "execution_count": 437,
   "metadata": {},
   "outputs": [
    {
     "data": {
      "text/html": [
       "<div>\n",
       "<style scoped>\n",
       "    .dataframe tbody tr th:only-of-type {\n",
       "        vertical-align: middle;\n",
       "    }\n",
       "\n",
       "    .dataframe tbody tr th {\n",
       "        vertical-align: top;\n",
       "    }\n",
       "\n",
       "    .dataframe thead th {\n",
       "        text-align: right;\n",
       "    }\n",
       "</style>\n",
       "<table border=\"1\" class=\"dataframe\">\n",
       "  <thead>\n",
       "    <tr style=\"text-align: right;\">\n",
       "      <th></th>\n",
       "      <th>title</th>\n",
       "      <th>Inception</th>\n",
       "      <th>Whiplash</th>\n",
       "      <th>Spider-Man: Into the Spider-Verse</th>\n",
       "      <th>The Shining</th>\n",
       "      <th>WALL·E</th>\n",
       "      <th>Eternal Sunshine of the Spotless Mind</th>\n",
       "      <th>Toy Story</th>\n",
       "      <th>Toy Story 3</th>\n",
       "      <th>Alien</th>\n",
       "      <th>...</th>\n",
       "      <th>Rebecca</th>\n",
       "      <th>Persona</th>\n",
       "      <th>12 Years a Slave</th>\n",
       "      <th>Unforgiven</th>\n",
       "      <th>The Seventh Seal</th>\n",
       "      <th>Pan's Labyrinth</th>\n",
       "      <th>To Kill a Mockingbird</th>\n",
       "      <th>Shutter Island</th>\n",
       "      <th>Raging Bull</th>\n",
       "      <th>Three Billboards Outside Ebbing, Missouri</th>\n",
       "    </tr>\n",
       "  </thead>\n",
       "  <tbody>\n",
       "    <tr>\n",
       "      <th>0</th>\n",
       "      <td>Inception</td>\n",
       "      <td>1.0</td>\n",
       "      <td>0.45283</td>\n",
       "      <td>0.792453</td>\n",
       "      <td>0.792453</td>\n",
       "      <td>0.537736</td>\n",
       "      <td>0.566038</td>\n",
       "      <td>0.613208</td>\n",
       "      <td>0.603774</td>\n",
       "      <td>0.716981</td>\n",
       "      <td>...</td>\n",
       "      <td>NaN</td>\n",
       "      <td>NaN</td>\n",
       "      <td>NaN</td>\n",
       "      <td>NaN</td>\n",
       "      <td>NaN</td>\n",
       "      <td>NaN</td>\n",
       "      <td>NaN</td>\n",
       "      <td>NaN</td>\n",
       "      <td>NaN</td>\n",
       "      <td>NaN</td>\n",
       "    </tr>\n",
       "    <tr>\n",
       "      <th>1</th>\n",
       "      <td>The Dark Knight</td>\n",
       "      <td>NaN</td>\n",
       "      <td>NaN</td>\n",
       "      <td>NaN</td>\n",
       "      <td>NaN</td>\n",
       "      <td>NaN</td>\n",
       "      <td>NaN</td>\n",
       "      <td>NaN</td>\n",
       "      <td>NaN</td>\n",
       "      <td>NaN</td>\n",
       "      <td>...</td>\n",
       "      <td>NaN</td>\n",
       "      <td>NaN</td>\n",
       "      <td>NaN</td>\n",
       "      <td>NaN</td>\n",
       "      <td>NaN</td>\n",
       "      <td>NaN</td>\n",
       "      <td>NaN</td>\n",
       "      <td>NaN</td>\n",
       "      <td>NaN</td>\n",
       "      <td>NaN</td>\n",
       "    </tr>\n",
       "    <tr>\n",
       "      <th>2</th>\n",
       "      <td>The Godfather</td>\n",
       "      <td>NaN</td>\n",
       "      <td>NaN</td>\n",
       "      <td>NaN</td>\n",
       "      <td>NaN</td>\n",
       "      <td>NaN</td>\n",
       "      <td>NaN</td>\n",
       "      <td>NaN</td>\n",
       "      <td>NaN</td>\n",
       "      <td>NaN</td>\n",
       "      <td>...</td>\n",
       "      <td>NaN</td>\n",
       "      <td>NaN</td>\n",
       "      <td>NaN</td>\n",
       "      <td>NaN</td>\n",
       "      <td>NaN</td>\n",
       "      <td>NaN</td>\n",
       "      <td>NaN</td>\n",
       "      <td>NaN</td>\n",
       "      <td>NaN</td>\n",
       "      <td>NaN</td>\n",
       "    </tr>\n",
       "    <tr>\n",
       "      <th>3</th>\n",
       "      <td>The Shawshank Redemption</td>\n",
       "      <td>NaN</td>\n",
       "      <td>NaN</td>\n",
       "      <td>NaN</td>\n",
       "      <td>NaN</td>\n",
       "      <td>NaN</td>\n",
       "      <td>NaN</td>\n",
       "      <td>NaN</td>\n",
       "      <td>NaN</td>\n",
       "      <td>NaN</td>\n",
       "      <td>...</td>\n",
       "      <td>NaN</td>\n",
       "      <td>NaN</td>\n",
       "      <td>NaN</td>\n",
       "      <td>NaN</td>\n",
       "      <td>NaN</td>\n",
       "      <td>NaN</td>\n",
       "      <td>NaN</td>\n",
       "      <td>NaN</td>\n",
       "      <td>NaN</td>\n",
       "      <td>NaN</td>\n",
       "    </tr>\n",
       "    <tr>\n",
       "      <th>4</th>\n",
       "      <td>The Lord of the Rings: The Return of the King</td>\n",
       "      <td>NaN</td>\n",
       "      <td>NaN</td>\n",
       "      <td>NaN</td>\n",
       "      <td>NaN</td>\n",
       "      <td>NaN</td>\n",
       "      <td>NaN</td>\n",
       "      <td>NaN</td>\n",
       "      <td>NaN</td>\n",
       "      <td>NaN</td>\n",
       "      <td>...</td>\n",
       "      <td>NaN</td>\n",
       "      <td>NaN</td>\n",
       "      <td>NaN</td>\n",
       "      <td>NaN</td>\n",
       "      <td>NaN</td>\n",
       "      <td>NaN</td>\n",
       "      <td>NaN</td>\n",
       "      <td>NaN</td>\n",
       "      <td>NaN</td>\n",
       "      <td>NaN</td>\n",
       "    </tr>\n",
       "    <tr>\n",
       "      <th>5</th>\n",
       "      <td>The Good, the Bad and the Ugly</td>\n",
       "      <td>NaN</td>\n",
       "      <td>NaN</td>\n",
       "      <td>NaN</td>\n",
       "      <td>NaN</td>\n",
       "      <td>NaN</td>\n",
       "      <td>NaN</td>\n",
       "      <td>NaN</td>\n",
       "      <td>NaN</td>\n",
       "      <td>NaN</td>\n",
       "      <td>...</td>\n",
       "      <td>NaN</td>\n",
       "      <td>NaN</td>\n",
       "      <td>NaN</td>\n",
       "      <td>NaN</td>\n",
       "      <td>NaN</td>\n",
       "      <td>NaN</td>\n",
       "      <td>NaN</td>\n",
       "      <td>NaN</td>\n",
       "      <td>NaN</td>\n",
       "      <td>NaN</td>\n",
       "    </tr>\n",
       "    <tr>\n",
       "      <th>6</th>\n",
       "      <td>Schindler's List</td>\n",
       "      <td>NaN</td>\n",
       "      <td>NaN</td>\n",
       "      <td>NaN</td>\n",
       "      <td>NaN</td>\n",
       "      <td>NaN</td>\n",
       "      <td>NaN</td>\n",
       "      <td>NaN</td>\n",
       "      <td>NaN</td>\n",
       "      <td>NaN</td>\n",
       "      <td>...</td>\n",
       "      <td>0.632075</td>\n",
       "      <td>0.584906</td>\n",
       "      <td>0.787736</td>\n",
       "      <td>0.707547</td>\n",
       "      <td>0.438679</td>\n",
       "      <td>0.575472</td>\n",
       "      <td>0.679245</td>\n",
       "      <td>0.754717</td>\n",
       "      <td>0.613208</td>\n",
       "      <td>0.65566</td>\n",
       "    </tr>\n",
       "  </tbody>\n",
       "</table>\n",
       "<p>7 rows × 238 columns</p>\n",
       "</div>"
      ],
      "text/plain": [
       "                                           title  Inception  Whiplash  Spider-Man: Into the Spider-Verse  The Shining    WALL·E  Eternal Sunshine of the Spotless Mind  Toy Story  Toy Story 3     Alien  ...   Rebecca   Persona  12 Years a Slave  Unforgiven  The Seventh Seal  Pan's Labyrinth  To Kill a Mockingbird  Shutter Island  Raging Bull  Three Billboards Outside Ebbing, Missouri\n",
       "0                                      Inception        1.0   0.45283                           0.792453     0.792453  0.537736                               0.566038   0.613208     0.603774  0.716981  ...       NaN       NaN               NaN         NaN               NaN              NaN                    NaN             NaN          NaN                                        NaN\n",
       "1                                The Dark Knight        NaN       NaN                                NaN          NaN       NaN                                    NaN        NaN          NaN       NaN  ...       NaN       NaN               NaN         NaN               NaN              NaN                    NaN             NaN          NaN                                        NaN\n",
       "2                                  The Godfather        NaN       NaN                                NaN          NaN       NaN                                    NaN        NaN          NaN       NaN  ...       NaN       NaN               NaN         NaN               NaN              NaN                    NaN             NaN          NaN                                        NaN\n",
       "3                       The Shawshank Redemption        NaN       NaN                                NaN          NaN       NaN                                    NaN        NaN          NaN       NaN  ...       NaN       NaN               NaN         NaN               NaN              NaN                    NaN             NaN          NaN                                        NaN\n",
       "4  The Lord of the Rings: The Return of the King        NaN       NaN                                NaN          NaN       NaN                                    NaN        NaN          NaN       NaN  ...       NaN       NaN               NaN         NaN               NaN              NaN                    NaN             NaN          NaN                                        NaN\n",
       "5                 The Good, the Bad and the Ugly        NaN       NaN                                NaN          NaN       NaN                                    NaN        NaN          NaN       NaN  ...       NaN       NaN               NaN         NaN               NaN              NaN                    NaN             NaN          NaN                                        NaN\n",
       "6                               Schindler's List        NaN       NaN                                NaN          NaN       NaN                                    NaN        NaN          NaN       NaN  ...  0.632075  0.584906          0.787736    0.707547          0.438679         0.575472               0.679245        0.754717     0.613208                                    0.65566\n",
       "\n",
       "[7 rows x 238 columns]"
      ]
     },
     "execution_count": 437,
     "metadata": {},
     "output_type": "execute_result"
    }
   ],
   "source": [
    "similarity = pd.concat([titles, similarity], axis=1)\n",
    "similarity"
   ]
  },
  {
   "cell_type": "markdown",
   "metadata": {},
   "source": [
    "## Beispiel: Filmempfehlung"
   ]
  },
  {
   "cell_type": "markdown",
   "metadata": {},
   "source": [
    "Achsen swappen"
   ]
  },
  {
   "cell_type": "code",
   "execution_count": 448,
   "metadata": {},
   "outputs": [],
   "source": [
    "inception = similarity.iloc[[0]]\n",
    "inception = inception.T\n",
    "inception = inception.drop(inception.index[0])"
   ]
  },
  {
   "cell_type": "code",
   "execution_count": 449,
   "metadata": {},
   "outputs": [
    {
     "data": {
      "text/html": [
       "<div>\n",
       "<style scoped>\n",
       "    .dataframe tbody tr th:only-of-type {\n",
       "        vertical-align: middle;\n",
       "    }\n",
       "\n",
       "    .dataframe tbody tr th {\n",
       "        vertical-align: top;\n",
       "    }\n",
       "\n",
       "    .dataframe thead th {\n",
       "        text-align: right;\n",
       "    }\n",
       "</style>\n",
       "<table border=\"1\" class=\"dataframe\">\n",
       "  <thead>\n",
       "    <tr style=\"text-align: right;\">\n",
       "      <th></th>\n",
       "      <th>0</th>\n",
       "    </tr>\n",
       "  </thead>\n",
       "  <tbody>\n",
       "    <tr>\n",
       "      <th>Inception</th>\n",
       "      <td>1</td>\n",
       "    </tr>\n",
       "    <tr>\n",
       "      <th>The Truman Show</th>\n",
       "      <td>0.900943</td>\n",
       "    </tr>\n",
       "    <tr>\n",
       "      <th>Stalker</th>\n",
       "      <td>0.825472</td>\n",
       "    </tr>\n",
       "    <tr>\n",
       "      <th>V for Vendetta</th>\n",
       "      <td>0.806604</td>\n",
       "    </tr>\n",
       "    <tr>\n",
       "      <th>Spider-Man: Into the Spider-Verse</th>\n",
       "      <td>0.792453</td>\n",
       "    </tr>\n",
       "    <tr>\n",
       "      <th>...</th>\n",
       "      <td>...</td>\n",
       "    </tr>\n",
       "    <tr>\n",
       "      <th>Pan's Labyrinth</th>\n",
       "      <td>NaN</td>\n",
       "    </tr>\n",
       "    <tr>\n",
       "      <th>To Kill a Mockingbird</th>\n",
       "      <td>NaN</td>\n",
       "    </tr>\n",
       "    <tr>\n",
       "      <th>Shutter Island</th>\n",
       "      <td>NaN</td>\n",
       "    </tr>\n",
       "    <tr>\n",
       "      <th>Raging Bull</th>\n",
       "      <td>NaN</td>\n",
       "    </tr>\n",
       "    <tr>\n",
       "      <th>Three Billboards Outside Ebbing, Missouri</th>\n",
       "      <td>NaN</td>\n",
       "    </tr>\n",
       "  </tbody>\n",
       "</table>\n",
       "<p>237 rows × 1 columns</p>\n",
       "</div>"
      ],
      "text/plain": [
       "                                                  0\n",
       "Inception                                         1\n",
       "The Truman Show                            0.900943\n",
       "Stalker                                    0.825472\n",
       "V for Vendetta                             0.806604\n",
       "Spider-Man: Into the Spider-Verse          0.792453\n",
       "...                                             ...\n",
       "Pan's Labyrinth                                 NaN\n",
       "To Kill a Mockingbird                           NaN\n",
       "Shutter Island                                  NaN\n",
       "Raging Bull                                     NaN\n",
       "Three Billboards Outside Ebbing, Missouri       NaN\n",
       "\n",
       "[237 rows x 1 columns]"
      ]
     },
     "execution_count": 449,
     "metadata": {},
     "output_type": "execute_result"
    }
   ],
   "source": [
    "inception.sort_values(by=[0], ascending=False)"
   ]
  },
  {
   "cell_type": "code",
   "execution_count": null,
   "metadata": {},
   "outputs": [],
   "source": []
  }
 ],
 "metadata": {
  "kernelspec": {
   "display_name": "Python 3 - NLP",
   "language": "python",
   "name": "nlp"
  },
  "language_info": {
   "codemirror_mode": {
    "name": "ipython",
    "version": 3
   },
   "file_extension": ".py",
   "mimetype": "text/x-python",
   "name": "python",
   "nbconvert_exporter": "python",
   "pygments_lexer": "ipython3",
   "version": "3.8.2"
  }
 },
 "nbformat": 4,
 "nbformat_minor": 4
}
