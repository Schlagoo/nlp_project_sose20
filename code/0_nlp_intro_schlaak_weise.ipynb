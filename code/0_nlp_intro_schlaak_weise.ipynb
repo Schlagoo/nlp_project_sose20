{
 "cells": [
  {
   "cell_type": "markdown",
   "metadata": {},
   "source": [
    "# Natural Language Processing (SoSe 20)\n",
    "\n",
    "### Authoren\n",
    "* Pascal Schlaak (58738)\n",
    "* Tim Weise (12345)\n",
    "\n",
    "### Gliederung\n",
    "\n",
    "1. [Datencrawling](./)\n",
    "2. [Datenvalidierung](./3_analysis_of_single_movie.ipynb)\n",
    "3. [Verarbeitung aller Dateneinträge](./4_processing_of_all_movies.ipynb)\n",
    "4. [Clusteranalyse und Vorhersage Empfehlung](./5_data_transformation.ipynb)"
   ]
  },
  {
   "cell_type": "code",
   "execution_count": null,
   "metadata": {},
   "outputs": [],
   "source": []
  }
 ],
 "metadata": {
  "kernelspec": {
   "display_name": "Python 3 - NLP",
   "language": "python",
   "name": "nlp"
  },
  "language_info": {
   "codemirror_mode": {
    "name": "ipython",
    "version": 3
   },
   "file_extension": ".py",
   "mimetype": "text/x-python",
   "name": "python",
   "nbconvert_exporter": "python",
   "pygments_lexer": "ipython3",
   "version": "3.8.2"
  }
 },
 "nbformat": 4,
 "nbformat_minor": 4
}
